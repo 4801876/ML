{
 "cells": [
  {
   "cell_type": "code",
   "execution_count": null,
   "id": "7c3a4ef6-0144-4de5-8a93-44e08c04f90e",
   "metadata": {},
   "outputs": [],
   "source": [
    "import pandas as pd\n",
    "import numpy as np\n",
    "import matplotlib.pyplot as plt\n",
    "from sklearn.model_selection import train_test_split\n",
    "from sklearn.linear_model import LinearRegression\n",
    "from sklearn.preprocessing import PolynomialFeatures\n",
    "from sklearn.metrics import mean_squared_error, r2_score"
   ]
  },
  {
   "cell_type": "code",
   "execution_count": null,
   "id": "8ca6039f-9da9-4e01-83b0-fc80135ac0cb",
   "metadata": {},
   "outputs": [],
   "source": [
    "df = pd.read_csv('Salary_positions.csv')"
   ]
  },
  {
   "cell_type": "code",
   "execution_count": null,
   "id": "8fdf5475-2e34-4dcf-ba0b-dd83bc597016",
   "metadata": {},
   "outputs": [],
   "source": [
    "X = df['Level'].values.reshape(-1, 1)  \n",
    "y = df['Salary'].values  "
   ]
  },
  {
   "cell_type": "code",
   "execution_count": null,
   "id": "e5cfc8b4-dad2-406f-a9e6-fa164f41db5c",
   "metadata": {},
   "outputs": [],
   "source": [
    "X_train, X_test, y_train, y_test = train_test_split(X, y, test_size=0.2,\n",
    "random_state=42)"
   ]
  },
  {
   "cell_type": "code",
   "execution_count": null,
   "id": "42230355-2ef5-401b-b78b-05fd47d428db",
   "metadata": {},
   "outputs": [],
   "source": [
    "linear_regressor = LinearRegression()\n",
    "linear_regressor.fit(X_train, y_train)"
   ]
  },
  {
   "cell_type": "code",
   "execution_count": null,
   "id": "12d33d19-526e-42a4-a017-232dedb2a5d4",
   "metadata": {},
   "outputs": [],
   "source": [
    "y_pred_linear = linear_regressor.predict(X_test)"
   ]
  },
  {
   "cell_type": "code",
   "execution_count": null,
   "id": "66ac8f56-4a59-4eab-8165-2763c4a6f2da",
   "metadata": {},
   "outputs": [],
   "source": [
    "poly = PolynomialFeatures(degree=4)\n",
    "X_poly = poly.fit_transform(X_train) # Transform training data\n",
    "poly_regressor = LinearRegression()\n",
    "poly_regressor.fit(X_poly, y_train)"
   ]
  },
  {
   "cell_type": "code",
   "execution_count": null,
   "id": "1996b55f-1147-4ed4-98d8-de7f445cfa52",
   "metadata": {},
   "outputs": [],
   "source": [
    "X_test_poly = poly.transform(X_test)  \n",
    "y_pred_poly = poly_regressor.predict(X_test_poly)"
   ]
  },
  {
   "cell_type": "code",
   "execution_count": null,
   "id": "ad34c2e3-72d4-4c27-9849-975f80b26609",
   "metadata": {},
   "outputs": [],
   "source": [
    "linear_r2 = r2_score(y_test, y_pred_linear)\n",
    "linear_mse = mean_squared_error(y_test, y_pred_linear)\n"
   ]
  },
  {
   "cell_type": "code",
   "execution_count": null,
   "id": "4c836b6b-67c3-492d-abee-163bd28f34d2",
   "metadata": {},
   "outputs": [],
   "source": [
    "poly_r2 = r2_score(y_test, y_pred_poly)\n",
    "poly_mse = mean_squared_error(y_test, y_pred_poly)"
   ]
  },
  {
   "cell_type": "code",
   "execution_count": null,
   "id": "88192e57-6ce1-4d94-9a59-9b05866f022c",
   "metadata": {},
   "outputs": [],
   "source": [
    "print(f\"Simple Linear Regression R2: {linear_r2:.4f}\")\n",
    "print(f\"Simple Linear Regression MSE: {linear_mse:.4f}\")\n",
    "print(f\"Polynomial Linear Regression R2: {poly_r2:.4f}\")\n",
    "print(f\"Polynomial Linear Regression MSE: {poly_mse:.4f}\")"
   ]
  },
  {
   "cell_type": "code",
   "execution_count": null,
   "id": "f2fc7f4d-824e-4b3d-8703-7f8ac91e31ed",
   "metadata": {},
   "outputs": [],
   "source": [
    "level_11 = np.array([[11]]) # Level 11\n",
    "level_12 = np.array([[12]]) "
   ]
  },
  {
   "cell_type": "code",
   "execution_count": null,
   "id": "14dc919b-4f88-4c95-9902-06f1c3e0fdff",
   "metadata": {},
   "outputs": [],
   "source": [
    "salary_11_linear = linear_regressor.predict(level_11)\n",
    "salary_12_linear = linear_regressor.predict(level_12)"
   ]
  },
  {
   "cell_type": "code",
   "execution_count": null,
   "id": "902d73e8-1280-43d1-93ca-e2892842eed6",
   "metadata": {},
   "outputs": [],
   "source": [
    "salary_11_poly = poly_regressor.predict(poly.transform(level_11))\n",
    "salary_12_poly = poly_regressor.predict(poly.transform(level_12))"
   ]
  },
  {
   "cell_type": "code",
   "execution_count": null,
   "id": "de36d667-d951-4dba-b4e5-ac71e333f45a",
   "metadata": {},
   "outputs": [],
   "source": [
    "print(f\"Predicted Salary for Level 11 (Simple Linear Regression):\n",
    "{salary_11_linear[0]:,.2f}\")\n",
    "print(f\"Predicted Salary for Level 12 (Simple Linear Regression):\n",
    "{salary_12_linear[0]:,.2f}\")\n",
    "print(f\"Predicted Salary for Level 11 (Polynomial Regression):\n",
    "{salary_11_poly[0]:,.2f}\")\n",
    "print(f\"Predicted Salary for Level 12 (Polynomial Regression):\n",
    "{salary_12_poly[0]:,.2f}\")"
   ]
  },
  {
   "cell_type": "code",
   "execution_count": null,
   "id": "5ab5c71b-9925-4325-9bd9-6f227c03d3f7",
   "metadata": {},
   "outputs": [],
   "source": [
    "plt.figure(figsize=(10, 6))"
   ]
  },
  {
   "cell_type": "code",
   "execution_count": null,
   "id": "b10d5cdf-8452-40ea-8a4c-b78b691caa48",
   "metadata": {},
   "outputs": [],
   "source": [
    "plt.subplot(1, 2, 1)\n",
    "plt.scatter(X, y, color='red')\n",
    "plt.plot(X, linear_regressor.predict(X), color='blue')\n",
    "plt.title('Simple Linear Regression')\n",
    "plt.xlabel('Level')\n",
    "plt.ylabel('Salary')"
   ]
  },
  {
   "cell_type": "code",
   "execution_count": null,
   "id": "4f5e0535-84e9-43fe-9f50-6fe41ba0ef1c",
   "metadata": {},
   "outputs": [],
   "source": [
    "plt.subplot(1, 2, 2)\n",
    "plt.scatter(X, y, color='red')\n",
    "plt.plot(np.arange(1, 13).reshape(-1, 1),\n",
    "poly_regressor.predict(poly.transform(np.arange(1, 13).reshape(-1, 1))), color='blue')\n",
    "plt.title('Polynomial Linear Regression')\n",
    "plt.xlabel('Level')\n",
    "plt.ylabel('Salary')\n",
    "plt.tight_layout()\n",
    "plt.show()"
   ]
  }
 ],
 "metadata": {
  "kernelspec": {
   "display_name": "Python 3 (ipykernel)",
   "language": "python",
   "name": "python3"
  },
  "language_info": {
   "codemirror_mode": {
    "name": "ipython",
    "version": 3
   },
   "file_extension": ".py",
   "mimetype": "text/x-python",
   "name": "python",
   "nbconvert_exporter": "python",
   "pygments_lexer": "ipython3",
   "version": "3.12.7"
  }
 },
 "nbformat": 4,
 "nbformat_minor": 5
}
