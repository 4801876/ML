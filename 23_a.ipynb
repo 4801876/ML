{
 "cells": [
  {
   "cell_type": "code",
   "execution_count": null,
   "id": "108f4b55-2081-4882-808e-40c285014486",
   "metadata": {},
   "outputs": [],
   "source": [
    "import pandas as pd\n",
    "import numpy as np\n",
    "import matplotlib.pyplot as plt\n",
    "from sklearn.linear_model import LinearRegression\n",
    "from sklearn.preprocessing import PolynomialFeatures\n",
    "from sklearn.metrics import mean_squared_error\n",
    "from sklearn.model_selection import train_test_split"
   ]
  },
  {
   "cell_type": "code",
   "execution_count": null,
   "id": "cc157757-a1f5-4950-a547-fcd4abe72e68",
   "metadata": {},
   "outputs": [],
   "source": [
    "data = pd.read_csv('Salary_positions.csv')"
   ]
  },
  {
   "cell_type": "code",
   "execution_count": null,
   "id": "bdf37f47-2db8-4531-b6b0-2bf7d26850db",
   "metadata": {},
   "outputs": [],
   "source": [
    "print(data.head())"
   ]
  },
  {
   "cell_type": "code",
   "execution_count": null,
   "id": "9c910338-c4cc-40b2-874f-e986d870a68f",
   "metadata": {},
   "outputs": [],
   "source": [
    "X = data['Level'].values.reshape(-1, 1)  \n",
    "y = data['Salary'].values "
   ]
  },
  {
   "cell_type": "code",
   "execution_count": null,
   "id": "7bd8b342-622c-4293-8c9c-115772b6f476",
   "metadata": {},
   "outputs": [],
   "source": [
    "lin_reg = LinearRegression()\n",
    "lin_reg.fit(X, y)"
   ]
  },
  {
   "cell_type": "code",
   "execution_count": null,
   "id": "9b478bd1-5721-40a8-8b48-59b725fc6c8b",
   "metadata": {},
   "outputs": [],
   "source": [
    "poly = PolynomialFeatures(degree=2)\n",
    "X_poly = poly.fit_transform(X)\n",
    "poly_reg = LinearRegression()\n",
    "poly_reg.fit(X_poly, y)"
   ]
  },
  {
   "cell_type": "code",
   "execution_count": null,
   "id": "bd3b0c57-10bf-4b54-a268-6c9c3bb5d72b",
   "metadata": {},
   "outputs": [],
   "source": [
    "y_pred_lin = lin_reg.predict(X)\n",
    "y_pred_poly = poly_reg.predict(X_poly)"
   ]
  },
  {
   "cell_type": "code",
   "execution_count": null,
   "id": "6cc22199-349d-4693-89fc-162f3272383f",
   "metadata": {},
   "outputs": [],
   "source": [
    "rmse_lin = np.sqrt(mean_squared_error(y, y_pred_lin))\n",
    "rmse_poly = np.sqrt(mean_squared_error(y, y_pred_poly))\n",
    "print(f\"RMSE for Simple Linear Regression: {rmse_lin}\")\n",
    "print(f\"RMSE for Polynomial Linear Regression: {rmse_poly}\")"
   ]
  },
  {
   "cell_type": "code",
   "execution_count": null,
   "id": "247d4f09-1f2a-4dee-bdb6-c511d188ddcc",
   "metadata": {},
   "outputs": [],
   "source": [
    "level_11 = np.array([[11]])\n",
    "level_12 = np.array([[12]])\n",
    "salary_pred_lin_11 = lin_reg.predict(level_11)\n",
    "salary_pred_lin_12 = lin_reg.predict(level_12)\n",
    "salary_pred_poly_11 = poly_reg.predict(poly.transform(level_11))\n",
    "salary_pred_poly_12 = poly_reg.predict(poly.transform(level_12))\n",
    "print(f\"Predicted Salary for Level 11 (Linear): {salary_pred_lin_11}\")\n",
    "print(f\"Predicted Salary for Level 12 (Linear): {salary_pred_lin_12}\")\n",
    "print(f\"Predicted Salary for Level 11 (Polynomial): {salary_pred_poly_11}\")\n",
    "print(f\"Predicted Salary for Level 12 (Polynomial): {salary_pred_poly_12}\")"
   ]
  },
  {
   "cell_type": "code",
   "execution_count": null,
   "id": "5360c05c-347e-48f6-a1d9-9e6db3a4c9c4",
   "metadata": {},
   "outputs": [],
   "source": [
    "plt.scatter(X, y, color='red')\n",
    "plt.plot(X, y_pred_lin, label='Linear Regression', color='blue')\n",
    "plt.plot(X, y_pred_poly, label='Polynomial Regression (degree=2)', color='green')\n",
    "plt.xlabel('Level')\n",
    "plt.ylabel('Salary')\n",
    "plt.title('Linear vs Polynomial Regression')\n",
    "plt.legend()\n",
    "plt.show()\n"
   ]
  }
 ],
 "metadata": {
  "kernelspec": {
   "display_name": "Python 3 (ipykernel)",
   "language": "python",
   "name": "python3"
  },
  "language_info": {
   "codemirror_mode": {
    "name": "ipython",
    "version": 3
   },
   "file_extension": ".py",
   "mimetype": "text/x-python",
   "name": "python",
   "nbconvert_exporter": "python",
   "pygments_lexer": "ipython3",
   "version": "3.12.7"
  }
 },
 "nbformat": 4,
 "nbformat_minor": 5
}
