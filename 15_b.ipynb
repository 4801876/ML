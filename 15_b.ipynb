{
 "cells": [
  {
   "cell_type": "code",
   "execution_count": null,
   "id": "ef373c33-34b0-4995-a47c-380403ca57a6",
   "metadata": {},
   "outputs": [],
   "source": [
    "from sklearn.datasets import load_boston\n",
    "from sklearn.model_selection import train_test_split\n",
    "from sklearn.linear_model import LinearRegression\n",
    "from sklearn.metrics import mean_squared_error, r2_score\n",
    "import pandas as pd"
   ]
  },
  {
   "cell_type": "code",
   "execution_count": null,
   "id": "8fd8640e-9b21-45a0-9073-ca35d163a55b",
   "metadata": {},
   "outputs": [],
   "source": [
    "boston = load_boston()\n",
    "data = pd.DataFrame(boston.data, columns=boston.feature_names)\n",
    "data['PRICE'] = boston.target"
   ]
  },
  {
   "cell_type": "code",
   "execution_count": null,
   "id": "aa8717f9-fca2-43a5-9f70-cbf591ac93c2",
   "metadata": {},
   "outputs": [],
   "source": [
    "X = data.drop('PRICE', axis=1)  # Use all features except the target\n",
    "Y = data['PRICE']  # Target variable"
   ]
  },
  {
   "cell_type": "code",
   "execution_count": null,
   "id": "f139ac00-7ddf-4696-b8b3-ce54231eacb6",
   "metadata": {},
   "outputs": [],
   "source": [
    "X_train, X_test, Y_train, Y_test = train_test_split(X, Y, test_size=0.3, random_state=42)"
   ]
  },
  {
   "cell_type": "code",
   "execution_count": null,
   "id": "9a775982-7cf7-45b8-93b7-9adf79fab098",
   "metadata": {},
   "outputs": [],
   "source": [
    "model = LinearRegression()\n",
    "model.fit(X_train, Y_train)"
   ]
  },
  {
   "cell_type": "code",
   "execution_count": null,
   "id": "1c993fb8-bb18-4010-ba2f-879ae631957f",
   "metadata": {},
   "outputs": [],
   "source": [
    "Y_pred = model.predict(X_test)"
   ]
  },
  {
   "cell_type": "code",
   "execution_count": null,
   "id": "5b2e2872-7b66-4880-a23d-781d9fd2f976",
   "metadata": {},
   "outputs": [],
   "source": [
    "mse = mean_squared_error(Y_test, Y_pred)\n",
    "r2 = r2_score(Y_test, Y_pred)\n",
    "print(\"Mean Squared Error (MSE):\", mse)\n",
    "print(\"R² Score:\", r2)"
   ]
  },
  {
   "cell_type": "code",
   "execution_count": null,
   "id": "b9d51a16-fcc6-448b-ba2f-3f33291c1a7c",
   "metadata": {},
   "outputs": [],
   "source": [
    "print(\"Predicted house prices for the first 5 test samples:\", Y_pred[:5])\n",
    "print(\"Actual house prices for the first 5 test samples:\", Y_test.values[:5])"
   ]
  },
  {
   "cell_type": "code",
   "execution_count": null,
   "id": "7814096a-5451-4c36-ac0a-5554f606d864",
   "metadata": {},
   "outputs": [],
   "source": [
    "print(\"Model coefficients (weights for each feature):\", model.coef_)\n",
    "print(\"Model intercept (bias term):\", model.intercept_)"
   ]
  }
 ],
 "metadata": {
  "kernelspec": {
   "display_name": "Python 3 (ipykernel)",
   "language": "python",
   "name": "python3"
  },
  "language_info": {
   "codemirror_mode": {
    "name": "ipython",
    "version": 3
   },
   "file_extension": ".py",
   "mimetype": "text/x-python",
   "name": "python",
   "nbconvert_exporter": "python",
   "pygments_lexer": "ipython3",
   "version": "3.12.7"
  }
 },
 "nbformat": 4,
 "nbformat_minor": 5
}
