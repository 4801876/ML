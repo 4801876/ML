{
 "cells": [
  {
   "cell_type": "code",
   "execution_count": null,
   "id": "753e1ddd-5d28-4f2f-979f-5d57ea69e34d",
   "metadata": {},
   "outputs": [],
   "source": [
    "import numpy as np\n",
    "import pandas as pd\n",
    "from sklearn import datasets\n",
    "from sklearn.model_selection import train_test_split\n",
    "from sklearn.decomposition import PCA\n",
    "from sklearn.svm import SVC\n",
    "from sklearn.metrics import accuracy_score\n",
    "from sklearn.preprocessing import StandardScaler"
   ]
  },
  {
   "cell_type": "code",
   "execution_count": null,
   "id": "72df8559-27fb-4c34-98e7-e2522b861a79",
   "metadata": {},
   "outputs": [],
   "source": [
    "iris = datasets.load_iris()\n",
    "X = iris.data # Features: sepal length, sepal width, petal length, petal width\n",
    "y = iris.target # Labels: species of iris flowers"
   ]
  },
  {
   "cell_type": "code",
   "execution_count": null,
   "id": "5d460e48-78c5-476a-af36-f7c545079295",
   "metadata": {},
   "outputs": [],
   "source": [
    "scaler = StandardScaler()\n",
    "X_scaled = scaler.fit_transform(X)"
   ]
  },
  {
   "cell_type": "code",
   "execution_count": null,
   "id": "d8c33535-a027-4bb8-94cf-2134727789a6",
   "metadata": {},
   "outputs": [],
   "source": [
    "pca = PCA(n_components=2)\n",
    "X_pca = pca.fit_transform(X_scaled)"
   ]
  },
  {
   "cell_type": "code",
   "execution_count": null,
   "id": "8f38c8bc-fa97-4f99-ad4c-c4e6ecb1ada0",
   "metadata": {},
   "outputs": [],
   "source": [
    "X_train, X_test, y_train, y_test = train_test_split(X_pca, y, test_size=0.2,\n",
    "random_state=42)\n"
   ]
  },
  {
   "cell_type": "code",
   "execution_count": null,
   "id": "800b432b-bf60-416a-9a53-735d2caf5b9f",
   "metadata": {},
   "outputs": [],
   "source": [
    "svm = SVC(kernel='linear', random_state=42)\n",
    "svm.fit(X_train, y_train)"
   ]
  },
  {
   "cell_type": "code",
   "execution_count": null,
   "id": "fb5ba464-db6b-49ad-9feb-683772aae228",
   "metadata": {},
   "outputs": [],
   "source": [
    "y_pred = svm.predict(X_test)"
   ]
  },
  {
   "cell_type": "code",
   "execution_count": null,
   "id": "fa8eda0c-1f2a-42d3-8c8b-5f5ddeda35d6",
   "metadata": {},
   "outputs": [],
   "source": [
    "accuracy = accuracy_score(y_test, y_pred)\n",
    "print(f\"Accuracy of the SVM model with PCA-reduced data: {accuracy * 100:.2f}%\")"
   ]
  },
  {
   "cell_type": "code",
   "execution_count": null,
   "id": "c3e887bc-6ddc-465e-bb46-107d318ed91c",
   "metadata": {},
   "outputs": [],
   "source": [
    "new_flower = np.array([[5.1, 3.5, 1.4, 0.2]])"
   ]
  },
  {
   "cell_type": "code",
   "execution_count": null,
   "id": "c81a65b8-187a-4474-9573-3dc771fff051",
   "metadata": {},
   "outputs": [],
   "source": [
    "new_flower_scaled = scaler.transform(new_flower)"
   ]
  },
  {
   "cell_type": "code",
   "execution_count": null,
   "id": "e9787b81-5bd2-4c8d-8362-84ab792f4102",
   "metadata": {},
   "outputs": [],
   "source": [
    "new_flower_pca = pca.transform(new_flower_scaled)"
   ]
  },
  {
   "cell_type": "code",
   "execution_count": null,
   "id": "4ae50629-4bec-4f6a-9d86-cf42aa540d1e",
   "metadata": {},
   "outputs": [],
   "source": [
    "predicted_class = svm.predict(new_flower_pca)\n",
    "predicted_class_name = iris.target_names[predicted_class][0]"
   ]
  },
  {
   "cell_type": "code",
   "execution_count": null,
   "id": "2c976115-ef79-4ec1-8054-c7917ceb59df",
   "metadata": {},
   "outputs": [],
   "source": [
    "print(f\"Predicted flower species for the input data {new_flower[0]}:\n",
    "{predicted_class_name}\")"
   ]
  }
 ],
 "metadata": {
  "kernelspec": {
   "display_name": "Python 3 (ipykernel)",
   "language": "python",
   "name": "python3"
  },
  "language_info": {
   "codemirror_mode": {
    "name": "ipython",
    "version": 3
   },
   "file_extension": ".py",
   "mimetype": "text/x-python",
   "name": "python",
   "nbconvert_exporter": "python",
   "pygments_lexer": "ipython3",
   "version": "3.12.7"
  }
 },
 "nbformat": 4,
 "nbformat_minor": 5
}
