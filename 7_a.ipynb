{
 "cells": [
  {
   "cell_type": "code",
   "execution_count": null,
   "id": "9c0e71a7-9057-4796-83f6-b0ad696e9ec7",
   "metadata": {},
   "outputs": [],
   "source": [
    "import pandas as pd\n",
    "import numpy as np\n",
    "from sklearn.linear_model import LinearRegression\n",
    "import matplotlib.pyplot as plt"
   ]
  },
  {
   "cell_type": "code",
   "execution_count": null,
   "id": "3a49c57e-13c4-41a3-a6a0-558b6513351d",
   "metadata": {},
   "outputs": [],
   "source": [
    "data = pd.read_csv('Salary_positions.csv')"
   ]
  },
  {
   "cell_type": "code",
   "execution_count": null,
   "id": "614feb39-e9f0-4f45-8909-ecdeb077c119",
   "metadata": {},
   "outputs": [],
   "source": [
    "print(data.head())"
   ]
  },
  {
   "cell_type": "code",
   "execution_count": null,
   "id": "04b3280e-e257-4c28-b921-f180ffe5b9d1",
   "metadata": {},
   "outputs": [],
   "source": [
    "X = data[['Level']] # Independent variable (employee level)\n",
    "y = data['Salary'] # Dependent variable (salary)"
   ]
  },
  {
   "cell_type": "code",
   "execution_count": null,
   "id": "fea3eb90-8d10-4b0c-9f10-55ca87a0d903",
   "metadata": {},
   "outputs": [],
   "source": [
    "model = LinearRegression()\n",
    "model.fit(X, y)"
   ]
  },
  {
   "cell_type": "code",
   "execution_count": null,
   "id": "343e8d8b-2598-4b09-8cff-50b3d8d7215e",
   "metadata": {},
   "outputs": [],
   "source": [
    "levels = np.array([11, 12]).reshape(-1, 1) # Reshape to match the model's input\n",
    "format\n",
    "predictions = model.predict(levels)"
   ]
  },
  {
   "cell_type": "code",
   "execution_count": null,
   "id": "152dc9e2-dadd-4d3f-8775-dfdc17c131c0",
   "metadata": {},
   "outputs": [],
   "source": [
    "print(f\"Predicted salary for level 11 employee: ${predictions[0]:,.2f}\")\n",
    "print(f\"Predicted salary for level 12 employee: ${predictions[1]:,.2f}\")"
   ]
  },
  {
   "cell_type": "code",
   "execution_count": null,
   "id": "8d87c8b0-655e-4aee-9786-468b01dbb796",
   "metadata": {},
   "outputs": [],
   "source": [
    "plt.scatter(X, y, color='blue') # Plot the actual data points\n",
    "plt.plot(X, model.predict(X), color='red') # Plot the regression line\n",
    "plt.title('Salary vs Level')\n",
    "plt.xlabel('Employee Level')\n",
    "plt.ylabel('Salary')\n",
    "plt.show()"
   ]
  }
 ],
 "metadata": {
  "kernelspec": {
   "display_name": "Python 3 (ipykernel)",
   "language": "python",
   "name": "python3"
  },
  "language_info": {
   "codemirror_mode": {
    "name": "ipython",
    "version": 3
   },
   "file_extension": ".py",
   "mimetype": "text/x-python",
   "name": "python",
   "nbconvert_exporter": "python",
   "pygments_lexer": "ipython3",
   "version": "3.12.7"
  }
 },
 "nbformat": 4,
 "nbformat_minor": 5
}
