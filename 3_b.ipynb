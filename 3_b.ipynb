{
 "cells": [
  {
   "cell_type": "code",
   "execution_count": null,
   "id": "83d658cd-9209-4e2c-a36f-0f454eae29ff",
   "metadata": {},
   "outputs": [],
   "source": [
    "import pandas as pd\n",
    "from sklearn.model_selection import train_test_split\n",
    "from sklearn.linear_model import LogisticRegression\n",
    "from sklearn.metrics import accuracy_score, confusion_matrix, classification_report"
   ]
  },
  {
   "cell_type": "code",
   "execution_count": null,
   "id": "f2e90a43-0e40-42e0-85fd-c87a41721078",
   "metadata": {},
   "outputs": [],
   "source": [
    "data = pd.read_csv('crash.csv')"
   ]
  },
  {
   "cell_type": "code",
   "execution_count": null,
   "id": "49fd5eb7-0e67-4624-bd2f-75e921998dfc",
   "metadata": {},
   "outputs": [],
   "source": [
    "print(\"First few rows of the dataset:\")\n",
    "print(data.head())"
   ]
  },
  {
   "cell_type": "code",
   "execution_count": null,
   "id": "44720f26-1b8a-4298-84c5-2fa78f9271ff",
   "metadata": {},
   "outputs": [],
   "source": [
    "print(\"\\nChecking for null values:\")\n",
    "print(data.isnull().sum())"
   ]
  },
  {
   "cell_type": "code",
   "execution_count": null,
   "id": "d6bd6ba4-d453-47e9-ad12-99b204a7ea84",
   "metadata": {},
   "outputs": [],
   "source": [
    "data = data.dropna()"
   ]
  },
  {
   "cell_type": "code",
   "execution_count": null,
   "id": "2291b067-e003-43c8-9c9d-1568ea45d1c9",
   "metadata": {},
   "outputs": [],
   "source": [
    "X = data[['age', 'speed']] # Features: age and speed\n",
    "y = data['fate'] "
   ]
  },
  {
   "cell_type": "code",
   "execution_count": null,
   "id": "f9891001-cfb8-4ab5-ad2d-0f6b51108230",
   "metadata": {},
   "outputs": [],
   "source": [
    "X_train, X_test, y_train, y_test = train_test_split(X, y, test_size=0.2,\n",
    "random_state=42)"
   ]
  },
  {
   "cell_type": "code",
   "execution_count": null,
   "id": "c5ba13c6-9f94-4052-b20d-00de326b8f5f",
   "metadata": {},
   "outputs": [],
   "source": [
    "model = LogisticRegression()\n",
    "model.fit(X_train, y_train)"
   ]
  },
  {
   "cell_type": "code",
   "execution_count": null,
   "id": "409326cb-3193-4578-84a9-bb0519bcad49",
   "metadata": {},
   "outputs": [],
   "source": [
    "y_pred = model.predict(X_test)"
   ]
  },
  {
   "cell_type": "code",
   "execution_count": null,
   "id": "88daf7b4-bb51-4b5e-b3a9-3285068da963",
   "metadata": {},
   "outputs": [],
   "source": [
    "accuracy = accuracy_score(y_test, y_pred)\n",
    "conf_matrix = confusion_matrix(y_test, y_pred)\n",
    "class_report = classification_report(y_test, y_pred)\n",
    "print(f\"\\nModel Accuracy: {accuracy:.2f}\")\n",
    "print(\"\\nConfusion Matrix:\")\n",
    "print(conf_matrix)\n",
    "print(\"\\nClassification Report:\")\n",
    "print(class_report)"
   ]
  },
  {
   "cell_type": "code",
   "execution_count": null,
   "id": "5ccf5d58-caca-4614-a1ab-d6349f5150aa",
   "metadata": {},
   "outputs": [],
   "source": [
    "print(\"\\nModel Coefficients:\")\n",
    "print(f\"Age Coefficient: {model.coef_[0][0]}\")\n",
    "print(f\"Speed Coefficient: {model.coef_[0][1]}\")\n",
    "print(f\"Intercept: {model.intercept_[0]}\")"
   ]
  }
 ],
 "metadata": {
  "kernelspec": {
   "display_name": "Python 3 (ipykernel)",
   "language": "python",
   "name": "python3"
  },
  "language_info": {
   "codemirror_mode": {
    "name": "ipython",
    "version": 3
   },
   "file_extension": ".py",
   "mimetype": "text/x-python",
   "name": "python",
   "nbconvert_exporter": "python",
   "pygments_lexer": "ipython3",
   "version": "3.12.7"
  }
 },
 "nbformat": 4,
 "nbformat_minor": 5
}
