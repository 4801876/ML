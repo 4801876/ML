{
 "cells": [
  {
   "cell_type": "code",
   "execution_count": null,
   "id": "9b7c4d4f-a8e3-4114-a02c-2373487b6897",
   "metadata": {},
   "outputs": [],
   "source": [
    "import pandas as pd\n",
    "import numpy as np\n",
    "from sklearn.model_selection import train_test_split\n",
    "from sklearn.linear_model import LinearRegression\n",
    "from sklearn.metrics import mean_squared_error, r2_score"
   ]
  },
  {
   "cell_type": "code",
   "execution_count": null,
   "id": "92f4728d-fb97-427d-87ad-3ad88854b271",
   "metadata": {},
   "outputs": [],
   "source": [
    "data = {\n",
    "'Area': [1500, 1800, 2400, 3000, 3500, 4000],\n",
    "'Rooms': [3, 4, 4, 5, 5, 6],\n",
    "'Age': [10, 15, 20, 25, 30, 35],\n",
    "'Price': [400000, 450000, 600000, 650000, 700000, 750000] # Target variable\n",
    "(Price)\n",
    "}"
   ]
  },
  {
   "cell_type": "code",
   "execution_count": null,
   "id": "99bfc4fa-0975-4d0d-ba08-4bcb3b8e462c",
   "metadata": {},
   "outputs": [],
   "source": [
    "df = pd.DataFrame(data)"
   ]
  },
  {
   "cell_type": "code",
   "execution_count": null,
   "id": "4915ac90-c107-4a0a-aa90-8ba298361509",
   "metadata": {},
   "outputs": [],
   "source": [
    "X = df[['Area', 'Rooms', 'Age']]  \n",
    "y = df['Price']  "
   ]
  },
  {
   "cell_type": "code",
   "execution_count": null,
   "id": "3386281b-215b-434e-8657-901b71669295",
   "metadata": {},
   "outputs": [],
   "source": [
    "X_train, X_test, y_train, y_test = train_test_split(X, y, test_size=0.2,\n",
    "random_state=42)"
   ]
  },
  {
   "cell_type": "code",
   "execution_count": null,
   "id": "d46d1764-920c-464b-98fc-296be9fa6a94",
   "metadata": {},
   "outputs": [],
   "source": [
    "model = LinearRegression()"
   ]
  },
  {
   "cell_type": "code",
   "execution_count": null,
   "id": "a5d97587-37d7-495e-b908-d2884a442bc8",
   "metadata": {},
   "outputs": [],
   "source": [
    "model.fit(X_train, y_train)"
   ]
  },
  {
   "cell_type": "code",
   "execution_count": null,
   "id": "62ed14f6-ae60-42d0-a469-aeb55ece6334",
   "metadata": {},
   "outputs": [],
   "source": [
    "y_pred = model.predict(X_test)"
   ]
  },
  {
   "cell_type": "code",
   "execution_count": null,
   "id": "25d7d069-92a5-4047-8db1-cb0a79d4df82",
   "metadata": {},
   "outputs": [],
   "source": [
    "mse = mean_squared_error(y_test, y_pred)\n",
    "r2 = r2_score(y_test, y_pred)"
   ]
  },
  {
   "cell_type": "code",
   "execution_count": null,
   "id": "ba850936-5836-4ce0-add1-079cb13916c4",
   "metadata": {},
   "outputs": [],
   "source": [
    "print(f\"Mean Squared Error (MSE): {mse}\")\n",
    "print(f\"R-squared (R2): {r2}\")"
   ]
  },
  {
   "cell_type": "code",
   "execution_count": null,
   "id": "308c18bf-0990-44d8-bd69-efdc67584dbc",
   "metadata": {},
   "outputs": [],
   "source": [
    "new_house_data = np.array([[2500, 4, 15]]) # New data (Area, Rooms, Age)\n",
    "predicted_price = model.predict(new_house_data)\n",
    "print(f\"Predicted Price for the new house: ${predicted_price[0]:,.2f}\")"
   ]
  }
 ],
 "metadata": {
  "kernelspec": {
   "display_name": "Python 3 (ipykernel)",
   "language": "python",
   "name": "python3"
  },
  "language_info": {
   "codemirror_mode": {
    "name": "ipython",
    "version": 3
   },
   "file_extension": ".py",
   "mimetype": "text/x-python",
   "name": "python",
   "nbconvert_exporter": "python",
   "pygments_lexer": "ipython3",
   "version": "3.12.7"
  }
 },
 "nbformat": 4,
 "nbformat_minor": 5
}
