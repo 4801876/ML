{
 "cells": [
  {
   "cell_type": "code",
   "execution_count": null,
   "id": "06de454c-865d-4f89-9552-44f7ec5696df",
   "metadata": {},
   "outputs": [],
   "source": [
    "import pandas as pd\n",
    "from sklearn.datasets import fetch_20newsgroups\n",
    "from sklearn.model_selection import train_test_split\n",
    "from sklearn.feature_extraction.text import TfidVectorizer\n",
    "from sklearn.naive_bayes import MultinomialNB\n",
    "from sklearn.metrics import accuracy_score,classification_report"
   ]
  },
  {
   "cell_type": "code",
   "execution_count": null,
   "id": "27d8e678-b53e-4b22-87bc-537db9cf03d9",
   "metadata": {},
   "outputs": [],
   "source": [
    "newsgroup = fetch_20newsgroup(subset='all')"
   ]
  },
  {
   "cell_type": "code",
   "execution_count": null,
   "id": "12a2c619-3f2d-445c-9ae8-6d704dc65e38",
   "metadata": {},
   "outputs": [],
   "source": [
    "X = newsgroups.data\n",
    "y = newsgroups.target"
   ]
  },
  {
   "cell_type": "code",
   "execution_count": null,
   "id": "d915648b-0981-476b-b068-c5e71dde87f1",
   "metadata": {},
   "outputs": [],
   "source": [
    "vectorizer = TfidVectorizer(stop_words = 'english',max_features = 5000)\n",
    "X_tfidf = vectorizer.fit_transform(X)"
   ]
  },
  {
   "cell_type": "code",
   "execution_count": null,
   "id": "ffcfe854-8d9e-4b1d-a469-7c4a917d5e62",
   "metadata": {},
   "outputs": [],
   "source": [
    "X_train,X_test,y_train,y_test = train_test_split(X_tfidf,y,test_size=0.3,random_state=42)"
   ]
  },
  {
   "cell_type": "code",
   "execution_count": null,
   "id": "b720528e-7246-4ee0-a367-ba62555fa7b8",
   "metadata": {},
   "outputs": [],
   "source": [
    "nb_classfier = MultinomialNB()\n",
    "nb_classifier.fit(X_train,y_train)"
   ]
  },
  {
   "cell_type": "code",
   "execution_count": null,
   "id": "9a6afcb4-20d1-4176-8a48-f9ac7365cc75",
   "metadata": {},
   "outputs": [],
   "source": [
    "y_pred=nb_classifier.predict(X_test)"
   ]
  },
  {
   "cell_type": "code",
   "execution_count": null,
   "id": "22a35dd1-77e9-4b5d-9d56-9b9849553963",
   "metadata": {},
   "outputs": [],
   "source": [
    "accuracy = accuracy_score(y_test,y_pred)\n",
    "print(f'Accuracy of th Multinomial Naive Bays model:{accuracy *100:2f}%')"
   ]
  },
  {
   "cell_type": "code",
   "execution_count": null,
   "id": "5e02b787-5a28-4a54-8c81-01a782cc6b99",
   "metadata": {},
   "outputs": [],
   "source": [
    "print('\\nClassification Report:')\n",
    "print(classification_report(y_test,y_pred,target_names=newsgroup.target_names))"
   ]
  },
  {
   "cell_type": "code",
   "execution_count": null,
   "id": "ed5285df-b5d4-43ff-8c82-ef898052d7c1",
   "metadata": {},
   "outputs": [],
   "source": [
    "sample_news=[\"NASA's Perserverance rover on Mars has successfully collected its sample of Martian rock\"]"
   ]
  },
  {
   "cell_type": "code",
   "execution_count": null,
   "id": "d19713ff-9a09-41ac-8b51-32bce8ec45b4",
   "metadata": {},
   "outputs": [],
   "source": [
    "sample_tfdf=vectorozer.transform(sample_news)"
   ]
  },
  {
   "cell_type": "code",
   "execution_count": null,
   "id": "b79584f2-8b7d-4839-9c10-defc4944e307",
   "metadata": {},
   "outputs": [],
   "source": [
    "predicted_category = nb_classifier.predict(sample_tfidf)\n",
    "print(f'\\nPredicted Categry for the sample news:{newgroup.target_names[predicted_category[0]]}')"
   ]
  }
 ],
 "metadata": {
  "kernelspec": {
   "display_name": "Python 3 (ipykernel)",
   "language": "python",
   "name": "python3"
  },
  "language_info": {
   "codemirror_mode": {
    "name": "ipython",
    "version": 3
   },
   "file_extension": ".py",
   "mimetype": "text/x-python",
   "name": "python",
   "nbconvert_exporter": "python",
   "pygments_lexer": "ipython3",
   "version": "3.12.7"
  }
 },
 "nbformat": 4,
 "nbformat_minor": 5
}
