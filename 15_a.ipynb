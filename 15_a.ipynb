{
 "cells": [
  {
   "cell_type": "code",
   "execution_count": null,
   "id": "723d3431-a7a9-479a-a837-01532c39b80e",
   "metadata": {},
   "outputs": [],
   "source": [
    "import numpy as np\n",
    "import pandas as pd\n",
    "from sklearn.model_selection import train_test_split\n",
    "from sklearn.preprocessing import StandardScaler\n",
    "from sklearn.datasets import load_boston\n",
    "from tensorflow.keras.models import Sequential\n",
    "from tensorflow.keras.layers import Dense\n",
    "from tensorflow.keras.utils import to_categorical"
   ]
  },
  {
   "cell_type": "code",
   "execution_count": null,
   "id": "7d3f4644-3eba-467b-99cb-97d7bc3e8c16",
   "metadata": {},
   "outputs": [],
   "source": [
    "boston = load_boston()\n",
    "X = boston.data # Features\n",
    "y = boston.target # Target variable (house prices"
   ]
  },
  {
   "cell_type": "code",
   "execution_count": null,
   "id": "322c88d5-c56a-4100-9185-2a634a7ae8f1",
   "metadata": {},
   "outputs": [],
   "source": [
    "average_price = np.mean(y)"
   ]
  },
  {
   "cell_type": "code",
   "execution_count": null,
   "id": "11c60231-0a4f-48de-980d-93c46fa171e7",
   "metadata": {},
   "outputs": [],
   "source": [
    "y_class = np.where(y > average_price, 1, 0)"
   ]
  },
  {
   "cell_type": "code",
   "execution_count": null,
   "id": "8497956b-2102-4318-909a-d968349b9139",
   "metadata": {},
   "outputs": [],
   "source": [
    "X_train, X_test, y_train, y_test = train_test_split(X, y_class, test_size=0.2,\n",
    "random_state=42)"
   ]
  },
  {
   "cell_type": "code",
   "execution_count": null,
   "id": "a389bffb-d808-4b8a-a543-fbc387145bdd",
   "metadata": {},
   "outputs": [],
   "source": [
    "scaler = StandardScaler()\n",
    "X_train = scaler.fit_transform(X_train)\n",
    "X_test = scaler.transform(X_test)"
   ]
  },
  {
   "cell_type": "code",
   "execution_count": null,
   "id": "c18c87ad-d583-4c26-ac08-62b392209a9a",
   "metadata": {},
   "outputs": [],
   "source": [
    "model = Sequential()\n",
    "model.add(Dense(64, input_dim=X_train.shape[1], activation='relu')) # First hidden\n",
    "layer\n",
    "model.add(Dense(32, activation='relu')) # Second hidden layer\n",
    "model.add(Dense(1, activation='sigmoid')) # Output layer (binary classification)\n"
   ]
  },
  {
   "cell_type": "code",
   "execution_count": null,
   "id": "93e7a520-359a-418b-94a3-3c754c18b841",
   "metadata": {},
   "outputs": [],
   "source": [
    "model.compile(optimizer='adam', loss='binary_crossentropy', metrics=['accuracy']"
   ]
  },
  {
   "cell_type": "code",
   "execution_count": null,
   "id": "29fc205e-0963-442e-89b4-6fd50628f73d",
   "metadata": {},
   "outputs": [],
   "source": [
    "model.fit(X_train, y_train, epochs=100, batch_size=32, validation_split=0.2)"
   ]
  },
  {
   "cell_type": "code",
   "execution_count": null,
   "id": "aa987e9b-e4b2-477a-a7f4-bd1b6f598c14",
   "metadata": {},
   "outputs": [],
   "source": [
    "oss, accuracy = model.evaluate(X_test, y_test)\n",
    "print(f\"Test Accuracy: {accuracy*100:.2f}%\")"
   ]
  },
  {
   "cell_type": "code",
   "execution_count": null,
   "id": "21a95bc0-a800-40c0-95c7-caf5476f1ccb",
   "metadata": {},
   "outputs": [],
   "source": [
    "predictions = model.predict(X_test)\n",
    "predictions = (predictions > 0.5).astype(int) # Convert probabilities to binary class (0\n",
    "or 1)"
   ]
  },
  {
   "cell_type": "code",
   "execution_count": null,
   "id": "b6c2f5cf-e693-4db9-b241-df00b414c996",
   "metadata": {},
   "outputs": [],
   "source": [
    "print(\"Predictions for the first 10 houses:\")\n",
    "print(predictions[:10].flatten())"
   ]
  },
  {
   "cell_type": "code",
   "execution_count": null,
   "id": "74faa02b-9b19-4cde-852d-194c0a6bdb23",
   "metadata": {},
   "outputs": [],
   "source": [
    "print(\"Actual labels for the first 10 houses:\")\n",
    "print(y_test[:10].values)"
   ]
  }
 ],
 "metadata": {
  "kernelspec": {
   "display_name": "Python 3 (ipykernel)",
   "language": "python",
   "name": "python3"
  },
  "language_info": {
   "codemirror_mode": {
    "name": "ipython",
    "version": 3
   },
   "file_extension": ".py",
   "mimetype": "text/x-python",
   "name": "python",
   "nbconvert_exporter": "python",
   "pygments_lexer": "ipython3",
   "version": "3.12.7"
  }
 },
 "nbformat": 4,
 "nbformat_minor": 5
}
