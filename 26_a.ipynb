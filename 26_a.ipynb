{
 "cells": [
  {
   "cell_type": "code",
   "execution_count": null,
   "id": "929dc883-f555-4255-b1e2-ff38ee545bba",
   "metadata": {},
   "outputs": [],
   "source": [
    "import pandas as pd\n",
    "import numpy as np\n",
    "from sklearn.model_selection import train_test_split\n",
    "from sklearn.preprocessing import StandardScaler\n",
    "from sklearn.neighbors import KNeighborsClassifier\n",
    "from sklearn.metrics import classification_report, confusion_matrix\n",
    "import matplotlib.pyplot as plt"
   ]
  },
  {
   "cell_type": "code",
   "execution_count": null,
   "id": "6eae3070-627e-46e3-b568-a5e2b82792b5",
   "metadata": {},
   "outputs": [],
   "source": [
    "url = 'https://raw.githubusercontent.com/jbrownlee/Datasets/master/pima-indiansdiabetes.data.csv'\n",
    "columns = ['Pregnancies', 'Glucose', 'BloodPressure', 'SkinThickness', 'Insulin',\n",
    "'BMI', 'DiabetesPedigreeFunction', 'Age', 'Outcome']\n"
   ]
  },
  {
   "cell_type": "code",
   "execution_count": null,
   "id": "7bb542c0-8d65-44a6-9aa4-29457aae52ab",
   "metadata": {},
   "outputs": [],
   "source": [
    "data = pd.read_csv(url, header=None, names=columns)\n"
   ]
  },
  {
   "cell_type": "code",
   "execution_count": null,
   "id": "7d1b468f-40f9-4114-9dfe-fd208c0aaf9b",
   "metadata": {},
   "outputs": [],
   "source": [
    "data.replace(0, np.nan, inplace=True)\n",
    "data.fillna(data.mean(), inplace=True)\n"
   ]
  },
  {
   "cell_type": "code",
   "execution_count": null,
   "id": "dc8b0b41-1ef0-4174-809a-6ab7cf7c8c00",
   "metadata": {},
   "outputs": [],
   "source": [
    "X = data.drop('Outcome', axis=1)\n",
    "y = data['Outcome']"
   ]
  },
  {
   "cell_type": "code",
   "execution_count": null,
   "id": "d889f10b-6ce2-4754-a06a-5c4fa29b6e1a",
   "metadata": {},
   "outputs": [],
   "source": [
    "scaler = StandardScaler()\n",
    "X_scaled = scaler.fit_transform(X)\n"
   ]
  },
  {
   "cell_type": "code",
   "execution_count": null,
   "id": "1c72ad72-ba49-46cc-9901-98ae1688d93c",
   "metadata": {},
   "outputs": [],
   "source": [
    "X_train, X_test, y_train, y_test = train_test_split(X_scaled, y, test_size=0.2,\n",
    "random_state=42)"
   ]
  },
  {
   "cell_type": "code",
   "execution_count": null,
   "id": "2ecd84eb-c25b-4517-a23b-84079fef3736",
   "metadata": {},
   "outputs": [],
   "source": [
    "def optimal_k(X_train, X_test, y_train, y_test):\n",
    "    accuracies = []\n",
    "    for k in range(1, 21): # Test for K values from 1 to 20\n",
    "        knn = KNeighborsClassifier(n_neighbors=k)\n",
    "        knn.fit(X_train, y_train)\n",
    "        accuracy = knn.score(X_test, y_test)\n",
    "        accuracies.append(accuracy)\n",
    "    plt.plot(range(1, 21), accuracies, marker='o')\n",
    "    plt.xlabel('Value of K')\n",
    "    plt.ylabel('Accuracy')\n",
    "    plt.title('Accuracy vs K')\n",
    "    plt.show()\n",
    "    optimal_k = accuracies.index(max(accuracies)) + 1\n",
    "return optimal_k, max(accuracies)"
   ]
  },
  {
   "cell_type": "code",
   "execution_count": null,
   "id": "8daec90b-39c5-45db-9c0d-e13e4c110ded",
   "metadata": {},
   "outputs": [],
   "source": [
    "optimal_k_value, max_accuracy = optimal_k(X_train, X_test, y_train, y_test)\n",
    "print(f\"Optimal value of K: {optimal_k_value} with accuracy: {max_accuracy}\")"
   ]
  },
  {
   "cell_type": "code",
   "execution_count": null,
   "id": "2f3f28cd-1156-4d84-8065-a903206c180c",
   "metadata": {},
   "outputs": [],
   "source": [
    "knn_optimal = KNeighborsClassifier(n_neighbors=optimal_k_value)\n",
    "knn_optimal.fit(X_train, y_train)"
   ]
  },
  {
   "cell_type": "code",
   "execution_count": null,
   "id": "dc98c394-f3d4-4f05-8e3f-96c47e681d83",
   "metadata": {},
   "outputs": [],
   "source": [
    "y_pred = knn_optimal.predict(X_test)\n",
    "print(\"Confusion Matrix:\")\n",
    "print(confusion_matrix(y_test, y_pred))\n",
    "print(\"\\nClassification Report:\")\n",
    "print(classification_report(y_test, y_pred))"
   ]
  }
 ],
 "metadata": {
  "kernelspec": {
   "display_name": "Python 3 (ipykernel)",
   "language": "python",
   "name": "python3"
  },
  "language_info": {
   "codemirror_mode": {
    "name": "ipython",
    "version": 3
   },
   "file_extension": ".py",
   "mimetype": "text/x-python",
   "name": "python",
   "nbconvert_exporter": "python",
   "pygments_lexer": "ipython3",
   "version": "3.12.7"
  }
 },
 "nbformat": 4,
 "nbformat_minor": 5
}
