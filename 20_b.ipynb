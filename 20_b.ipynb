{
 "cells": [
  {
   "cell_type": "code",
   "execution_count": null,
   "id": "12aa42cc-8b70-4bf2-ae86-4adba9b4e538",
   "metadata": {},
   "outputs": [],
   "source": [
    "import pandas as pd\n",
    "from sklearn.tree import DecisionTreeClassifier\n",
    "from sklearn.model_selection import train_test_split\n",
    "from sklearn.metrics import accuracy_score\n",
    "from sklearn.preprocessing import LabelEncoder"
   ]
  },
  {
   "cell_type": "code",
   "execution_count": null,
   "id": "15c628d1-63d6-4c30-adce-c241e17a87d5",
   "metadata": {},
   "outputs": [],
   "source": [
    "data = {\n",
    "'Outlook': ['Sunny', 'Sunny', 'Overcast', 'Rain', 'Rain', 'Rain', 'Overcast', 'Sunny',\n",
    "'Sunny', 'Rain', 'Sunny', 'Overcast', 'Overcast', 'Rain'],\n",
    "'Temperature': ['Hot', 'Hot', 'Hot', 'Mild', 'Cool', 'Cool', 'Cool', 'Mild', 'Mild', 'Mild',\n",
    "'Hot', 'Mild', 'Mild', 'Mild'],\n",
    "'Humidity': ['High', 'High', 'High', 'High', 'Normal', 'Normal', 'Normal', 'High',\n",
    "'Normal', 'Normal', 'High', 'Normal', 'Normal', 'High'],\n",
    "'Wind': ['Weak', 'Strong', 'Weak', 'Weak', 'Weak', 'Strong', 'Strong', 'Weak', 'Weak',\n",
    "'Weak', 'Weak', 'Weak', 'Strong', 'Strong'],\n",
    "'PlayTennis': ['No', 'No', 'Yes', 'Yes', 'Yes', 'No', 'Yes', 'No', 'Yes', 'Yes', 'Yes', 'Yes',\n",
    "'Yes', 'No']\n",
    "}"
   ]
  },
  {
   "cell_type": "code",
   "execution_count": null,
   "id": "0210ac2c-8973-4ee6-b786-1c7557ac6022",
   "metadata": {},
   "outputs": [],
   "source": [
    "df = pd.DataFrame(data)"
   ]
  },
  {
   "cell_type": "code",
   "execution_count": null,
   "id": "45dba760-e979-447b-8e96-c20edbbf01f7",
   "metadata": {},
   "outputs": [],
   "source": [
    "encoder = LabelEncoder()\n",
    "df['Outlook'] = encoder.fit_transform(df['Outlook'])\n",
    "df['Temperature'] = encoder.fit_transform(df['Temperature'])\n",
    "df['Humidity'] = encoder.fit_transform(df['Humidity'])\n",
    "df['Wind'] = encoder.fit_transform(df['Wind'])\n",
    "df['PlayTennis'] = encoder.fit_transform(df['PlayTennis'])"
   ]
  },
  {
   "cell_type": "code",
   "execution_count": null,
   "id": "feb5dc06-3abd-43d9-8119-ef7b9a229062",
   "metadata": {},
   "outputs": [],
   "source": [
    "X = df.drop('PlayTennis', axis=1) \n",
    "y = df['PlayTennis'] "
   ]
  },
  {
   "cell_type": "code",
   "execution_count": null,
   "id": "d604a15a-31c4-4c5e-b5dc-dd04be4b5e19",
   "metadata": {},
   "outputs": [],
   "source": [
    "X_train, X_test, y_train, y_test = train_test_split(X, y, test_size=0.2,\n",
    "random_state=42)"
   ]
  },
  {
   "cell_type": "code",
   "execution_count": null,
   "id": "84cabbc9-74b7-457f-892e-63f8a3ad257b",
   "metadata": {},
   "outputs": [],
   "source": [
    "dtree = DecisionTreeClassifier()\n",
    "dtree.fit(X_train, y_train)"
   ]
  },
  {
   "cell_type": "code",
   "execution_count": null,
   "id": "0a3715f0-465a-4a80-b7a4-09dd07c90bd6",
   "metadata": {},
   "outputs": [],
   "source": [
    "y_pred = dtree.predict(X_test)"
   ]
  },
  {
   "cell_type": "code",
   "execution_count": null,
   "id": "301f6cbc-3172-48c7-8320-f63895ecda5d",
   "metadata": {},
   "outputs": [],
   "source": [
    "accuracy = accuracy_score(y_test, y_pred)\n",
    "print(f'Accuracy of Decision Tree Model: {accuracy * 100:.2f}%')"
   ]
  },
  {
   "cell_type": "code",
   "execution_count": null,
   "id": "da46f97a-c44b-4e6c-9cdc-8c81b4db1edf",
   "metadata": {},
   "outputs": [],
   "source": [
    "from sklearn.tree import export_text\n",
    "tree_rules = export_text(dtree, feature_names=list(X.columns))\n",
    "print(\"\\nDecision Tree Rules:\\n\")\n",
    "print(tree_rules)"
   ]
  },
  {
   "cell_type": "code",
   "execution_count": null,
   "id": "7bfe422e-e4a3-4019-be8e-0968676a200e",
   "metadata": {},
   "outputs": [],
   "source": []
  }
 ],
 "metadata": {
  "kernelspec": {
   "display_name": "Python 3 (ipykernel)",
   "language": "python",
   "name": "python3"
  },
  "language_info": {
   "codemirror_mode": {
    "name": "ipython",
    "version": 3
   },
   "file_extension": ".py",
   "mimetype": "text/x-python",
   "name": "python",
   "nbconvert_exporter": "python",
   "pygments_lexer": "ipython3",
   "version": "3.12.7"
  }
 },
 "nbformat": 4,
 "nbformat_minor": 5
}
