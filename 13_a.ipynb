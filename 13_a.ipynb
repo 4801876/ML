{
 "cells": [
  {
   "cell_type": "code",
   "execution_count": null,
   "id": "d5949727-1541-4049-bb4d-65fd30bb186f",
   "metadata": {},
   "outputs": [],
   "source": [
    "import numpy as np\n",
    "import pandas as pd\n",
    "import matplotlib.pyplot as plt\n",
    "import yfinance as yf\n",
    "from sklearn.preprocessing import MinMaxScaler\n",
    "from sklearn.model_selection import train_test_split\n",
    "from tensorflow.keras.models import Sequential\n",
    "from tensorflow.keras.layers import LSTM, Dense, Dropout\n",
    "from sklearn.metrics import accuracy_score"
   ]
  },
  {
   "cell_type": "code",
   "execution_count": null,
   "id": "673459a4-7ae7-4669-ae79-637edeefa93f",
   "metadata": {},
   "outputs": [],
   "source": [
    "df = yf.download('GOOGL', start='2010-01-01', end='2024-01-01')"
   ]
  },
  {
   "cell_type": "code",
   "execution_count": null,
   "id": "a78efbba-bd2d-4119-a425-b7ca08fa61a0",
   "metadata": {},
   "outputs": [],
   "source": [
    "df.head()"
   ]
  },
  {
   "cell_type": "code",
   "execution_count": null,
   "id": "8e5bf1b2-c463-462a-b74e-788219c19c16",
   "metadata": {},
   "outputs": [],
   "source": [
    "df = df[['Close']]"
   ]
  },
  {
   "cell_type": "code",
   "execution_count": null,
   "id": "02656f3b-1890-4827-981b-8699058c9f37",
   "metadata": {},
   "outputs": [],
   "source": [
    "scaler = MinMaxScaler(feature_range=(0, 1))\n",
    "scaled_data = scaler.fit_transform(df)"
   ]
  },
  {
   "cell_type": "code",
   "execution_count": null,
   "id": "618efe06-9d0b-4348-ae66-b794bf952f43",
   "metadata": {},
   "outputs": [],
   "source": [
    "def create_dataset(data, time_step=60):\n",
    "    X, y = [], []\n",
    "    for i in range(time_step, len(data)):\n",
    "        X.append(data[i-time_step:i, 0])\n",
    "        y.append(1 if data[i, 0] > data[i-1, 0] else 0) # 1 for increase, 0\n",
    "for decrease\n",
    "    return np.array(X), np.array(y)"
   ]
  },
  {
   "cell_type": "code",
   "execution_count": null,
   "id": "d611797d-bc86-4d72-af84-6a05fc273fa2",
   "metadata": {},
   "outputs": [],
   "source": [
    "X, y = create_dataset(scaled_data)\n",
    "X = X.reshape(X.shape[0], X.shape[1], 1) # Reshape for RNN [samples,\n",
    "time_steps, features]"
   ]
  },
  {
   "cell_type": "code",
   "execution_count": null,
   "id": "18cbb579-285c-4f2a-ab88-868a8c70482e",
   "metadata": {},
   "outputs": [],
   "source": [
    "X_train, X_test, y_train, y_test = train_test_split(X, y, test_size=0.2,\n",
    "random_state=42)"
   ]
  },
  {
   "cell_type": "code",
   "execution_count": null,
   "id": "9dd00a0e-f87c-49d1-8034-cf4642ab85ef",
   "metadata": {},
   "outputs": [],
   "source": [
    "model = Sequential()"
   ]
  },
  {
   "cell_type": "code",
   "execution_count": null,
   "id": "79eb0afe-a39f-4555-ab1e-907c3eb70e3c",
   "metadata": {},
   "outputs": [],
   "source": [
    "model.add(LSTM(units=50, return_sequences=True,\n",
    "input_shape=(X_train.shape[1], 1)))\n",
    "model.add(Dropout(0.2))\n",
    "model.add(LSTM(units=50, return_sequences=False))\n",
    "model.add(Dropout(0.2))"
   ]
  },
  {
   "cell_type": "code",
   "execution_count": null,
   "id": "c38433e0-6500-4b5a-ad20-8a811aa1de76",
   "metadata": {},
   "outputs": [],
   "source": [
    "model.add(Dense(units=1, activation='sigmoid')) # Binary output: 1\n",
    "(increase), 0 (decrease)"
   ]
  },
  {
   "cell_type": "code",
   "execution_count": null,
   "id": "f463005c-0205-44f8-b383-844fa6682b21",
   "metadata": {},
   "outputs": [],
   "source": [
    "model.compile(optimizer='adam', loss='binary_crossentropy',\n",
    "metrics=['accuracy'])"
   ]
  },
  {
   "cell_type": "code",
   "execution_count": null,
   "id": "7accd656-c759-4a19-abea-3a2d81ca48c9",
   "metadata": {},
   "outputs": [],
   "source": [
    "model.fit(X_train, y_train, epochs=10, batch_size=32,\n",
    "validation_data=(X_test, y_test))"
   ]
  },
  {
   "cell_type": "code",
   "execution_count": null,
   "id": "ae875bd7-1a5b-49a6-bf7a-c8070e2f0a2f",
   "metadata": {},
   "outputs": [],
   "source": [
    "loss, accuracy = model.evaluate(X_test, y_test)\n",
    "print(f'Test Accuracy: {accuracy * 100:.2f}%')"
   ]
  },
  {
   "cell_type": "code",
   "execution_count": null,
   "id": "c1700752-1aa5-48ca-ae97-b249dc3715e5",
   "metadata": {},
   "outputs": [],
   "source": [
    "last_60_days = scaled_data[-60:]\n",
    "last_60_days = last_60_days.reshape(1, -1)\n",
    "last_60_days = last_60_days.reshape((1, 60, 1))"
   ]
  },
  {
   "cell_type": "code",
   "execution_count": null,
   "id": "a0ebccae-c1c2-47c8-a427-0d039812ec3f",
   "metadata": {},
   "outputs": [],
   "source": [
    "predicted_trend = model.predict(last_60_days)\n",
    "predicted_trend = 1 if predicted_trend[0][0] > 0.5 else 0"
   ]
  },
  {
   "cell_type": "code",
   "execution_count": null,
   "id": "48591f74-c4df-44b2-a316-b3734b66837e",
   "metadata": {},
   "outputs": [],
   "source": [
    "if predicted_trend == 1:\n",
    "    print(\"The stock price is predicted to increase tomorrow.\")\n",
    "else:\n",
    "    print(\"The stock price is predicted to decrease tomorrow.\")"
   ]
  },
  {
   "cell_type": "code",
   "execution_count": null,
   "id": "70eb6a28-3921-4017-bd69-3bad93bb9de3",
   "metadata": {},
   "outputs": [],
   "source": [
    "predicted_stock_price = model.predict(X_test)\n",
    "predicted_stock_price = (predicted_stock_price > 0.5) # Convert to 0 or 1\n",
    "plt.figure(figsize=(10, 6))\n",
    "plt.plot(y_test, color='blue', label='Real Stock Price Trend')\n",
    "plt.plot(predicted_stock_price, color='red', label='Predicted Stock Price\n",
    "Trend')\n",
    "plt.title('Stock Price Trend Prediction')\n",
    "plt.xlabel('Days')\n",
    "plt.ylabel('Trend (1 = Increase, 0 = Decrease)')\n",
    "plt.legend()\n",
    "plt.show()"
   ]
  }
 ],
 "metadata": {
  "kernelspec": {
   "display_name": "Python 3 (ipykernel)",
   "language": "python",
   "name": "python3"
  },
  "language_info": {
   "codemirror_mode": {
    "name": "ipython",
    "version": 3
   },
   "file_extension": ".py",
   "mimetype": "text/x-python",
   "name": "python",
   "nbconvert_exporter": "python",
   "pygments_lexer": "ipython3",
   "version": "3.12.7"
  }
 },
 "nbformat": 4,
 "nbformat_minor": 5
}
