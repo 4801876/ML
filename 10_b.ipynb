{
 "cells": [
  {
   "cell_type": "code",
   "execution_count": null,
   "id": "7cc30b07-e551-40fd-ba9b-b196ed796dba",
   "metadata": {},
   "outputs": [],
   "source": [
    "import pandas as pd\n",
    "import matplotlib.pyplot as plt\n",
    "from sklearn.datasets import load_iris"
   ]
  },
  {
   "cell_type": "code",
   "execution_count": null,
   "id": "1f987527-662b-4aa2-b0de-1761577ad84e",
   "metadata": {},
   "outputs": [],
   "source": [
    "iris = load_iris()\n",
    "X = iris.data # Features (sepal length, sepal width, petal length, petal width)\n",
    "y = iris.target # Target labels (Iris species)"
   ]
  },
  {
   "cell_type": "code",
   "execution_count": null,
   "id": "93fc369e-4ff8-4511-8f69-8fb6d5b2aafa",
   "metadata": {},
   "outputs": [],
   "source": [
    "species_mapping = {0: 'setosa', 1: 'versicolor', 2: 'virginica'}\n",
    "y_numeric = [species_mapping[i] for i in y]"
   ]
  },
  {
   "cell_type": "code",
   "execution_count": null,
   "id": "9f975072-f21c-4170-b9a6-3d1d535b7966",
   "metadata": {},
   "outputs": [],
   "source": [
    "iris_df = pd.DataFrame(X, columns=iris.feature_names)\n",
    "iris_df['species'] = y_numeric # Add species column to the DataFrame"
   ]
  },
  {
   "cell_type": "code",
   "execution_count": null,
   "id": "7bd8e4a6-61c2-48ec-bf7e-ae3e820544d4",
   "metadata": {},
   "outputs": [],
   "source": [
    "plt.figure(figsize=(8, 6))\n",
    "for species in iris_df['species'].unique():\n",
    "    subset = iris_df[iris_df['species'] == species]\n",
    "    plt.scatter(subset['sepal length (cm)'], subset['sepal width (cm)'], label=species)\n",
    "plt.title('Sepal Length vs Sepal Width for Iris Dataset')\n",
    "plt.xlabel('Sepal Length (cm)')\n",
    "plt.ylabel('Sepal Width (cm)')\n",
    "plt.legend(title='Species')\n",
    "plt.grid(True)\n",
    "plt.show()"
   ]
  },
  {
   "cell_type": "code",
   "execution_count": null,
   "id": "fd85bc29-db8a-42c1-8198-d1b5e27b8f59",
   "metadata": {},
   "outputs": [],
   "source": []
  }
 ],
 "metadata": {
  "kernelspec": {
   "display_name": "Python 3 (ipykernel)",
   "language": "python",
   "name": "python3"
  },
  "language_info": {
   "codemirror_mode": {
    "name": "ipython",
    "version": 3
   },
   "file_extension": ".py",
   "mimetype": "text/x-python",
   "name": "python",
   "nbconvert_exporter": "python",
   "pygments_lexer": "ipython3",
   "version": "3.12.7"
  }
 },
 "nbformat": 4,
 "nbformat_minor": 5
}
