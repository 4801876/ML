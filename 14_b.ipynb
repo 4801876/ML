{
 "cells": [
  {
   "cell_type": "code",
   "execution_count": 1,
   "id": "ff9cc88e-a1fa-44c5-b67c-fa1051bd11e2",
   "metadata": {},
   "outputs": [],
   "source": [
    "import pandas as pd\n",
    "import numpy as np"
   ]
  },
  {
   "cell_type": "code",
   "execution_count": 2,
   "id": "1c18a9c3-567e-46e3-bfd4-206f67250766",
   "metadata": {},
   "outputs": [],
   "source": [
    "data = {\n",
    "'Name': ['Alice', 'Bob', 'Charlie', 'David', np.nan],\n",
    "'Age': [25, 30, np.nan, 22, 23],\n",
    "'City': ['New York', 'Los Angeles', 'Chicago', np.nan, 'Houston'],\n",
    "'Salary': [50000, 60000, 55000, 45000, np.nan]\n",
    "}"
   ]
  },
  {
   "cell_type": "code",
   "execution_count": 3,
   "id": "f867d7a4-cac6-4fd4-a667-0a55c8d0cc9f",
   "metadata": {},
   "outputs": [],
   "source": [
    "df = pd.DataFrame(data)"
   ]
  },
  {
   "cell_type": "code",
   "execution_count": 4,
   "id": "283068c3-8deb-4e49-af3a-398bd15c2b7a",
   "metadata": {},
   "outputs": [
    {
     "name": "stdout",
     "output_type": "stream",
     "text": [
      "Original Dataset:\n",
      "      Name   Age         City   Salary\n",
      "0    Alice  25.0     New York  50000.0\n",
      "1      Bob  30.0  Los Angeles  60000.0\n",
      "2  Charlie   NaN      Chicago  55000.0\n",
      "3    David  22.0          NaN  45000.0\n",
      "4      NaN  23.0      Houston      NaN\n"
     ]
    }
   ],
   "source": [
    "print(\"Original Dataset:\")\n",
    "print(df)"
   ]
  },
  {
   "cell_type": "code",
   "execution_count": 5,
   "id": "524e0d8c-d89a-4629-a7ef-89b5f8de2de0",
   "metadata": {},
   "outputs": [
    {
     "name": "stdout",
     "output_type": "stream",
     "text": [
      "\n",
      "Null Values in the Dataset:\n",
      "    Name    Age   City  Salary\n",
      "0  False  False  False   False\n",
      "1  False  False  False   False\n",
      "2  False   True  False   False\n",
      "3  False  False   True   False\n",
      "4   True  False  False    True\n"
     ]
    }
   ],
   "source": [
    "print(\"\\nNull Values in the Dataset:\")\n",
    "print(df.isnull())"
   ]
  },
  {
   "cell_type": "code",
   "execution_count": 6,
   "id": "43ce9524-e2c0-4f5e-a7fc-7d3d4cb3ee80",
   "metadata": {},
   "outputs": [],
   "source": [
    "df_cleaned = df.dropna()"
   ]
  },
  {
   "cell_type": "code",
   "execution_count": 7,
   "id": "0b0fea03-9895-49c3-b68b-21fc39bb517c",
   "metadata": {},
   "outputs": [
    {
     "name": "stdout",
     "output_type": "stream",
     "text": [
      "\n",
      "Dataset after removing rows with null values:\n",
      "    Name   Age         City   Salary\n",
      "0  Alice  25.0     New York  50000.0\n",
      "1    Bob  30.0  Los Angeles  60000.0\n"
     ]
    }
   ],
   "source": [
    "print(\"\\nDataset after removing rows with null values:\")\n",
    "print(df_cleaned)"
   ]
  },
  {
   "cell_type": "code",
   "execution_count": null,
   "id": "f6ccf513-5c59-4dc1-a7dd-714cf241c066",
   "metadata": {},
   "outputs": [],
   "source": []
  }
 ],
 "metadata": {
  "kernelspec": {
   "display_name": "Python 3 (ipykernel)",
   "language": "python",
   "name": "python3"
  },
  "language_info": {
   "codemirror_mode": {
    "name": "ipython",
    "version": 3
   },
   "file_extension": ".py",
   "mimetype": "text/x-python",
   "name": "python",
   "nbconvert_exporter": "python",
   "pygments_lexer": "ipython3",
   "version": "3.12.7"
  }
 },
 "nbformat": 4,
 "nbformat_minor": 5
}
