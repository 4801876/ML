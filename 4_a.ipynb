{
 "cells": [
  {
   "cell_type": "code",
   "execution_count": null,
   "id": "37ea126b-8d69-4062-aba3-8c4cdbf96f7d",
   "metadata": {},
   "outputs": [],
   "source": [
    "import pandas as pd\n",
    "import matplotlib.pyplot as plt\n",
    "from sklearn.cluster import KMeans\n",
    "from sklearn.preprocessing import StandardScaler"
   ]
  },
  {
   "cell_type": "code",
   "execution_count": null,
   "id": "09bfc3e6-6eb0-4bb0-8095-165985c539fb",
   "metadata": {},
   "outputs": [],
   "source": [
    "data = pd.read_csv('mall_customers.csv')"
   ]
  },
  {
   "cell_type": "code",
   "execution_count": null,
   "id": "3a4ca3e5-d705-4ab7-a311-282680de6e8a",
   "metadata": {},
   "outputs": [],
   "source": [
    "print(\"first few rows of the datasets:\")\n",
    "print(data.head())"
   ]
  },
  {
   "cell_type": "code",
   "execution_count": null,
   "id": "8903e22b-e8c2-452a-904a-6f199857a4f0",
   "metadata": {},
   "outputs": [],
   "source": [
    "X = data[['Annual Income(K$)','Spending Score(1-100)']]"
   ]
  },
  {
   "cell_type": "code",
   "execution_count": null,
   "id": "dab9e126-2460-423c-948f-c42a1a1b1b5e",
   "metadata": {},
   "outputs": [],
   "source": [
    "scaler = StandardScaler()\n",
    "X_scaled = scaler.fit_transform(X)"
   ]
  },
  {
   "cell_type": "code",
   "execution_count": null,
   "id": "421610a2-31b9-4751-ac8f-1412f5f31445",
   "metadata": {},
   "outputs": [],
   "source": [
    "inertia = []\n",
    "K_range = range(1, 11)\n",
    "for k in K_range:\n",
    "kmeans = KMeans(n_clusters=k, random_state=42)\n",
    "kmeans.fit(X_scaled)\n",
    "inertia.append(kmeans.inertia_)"
   ]
  },
  {
   "cell_type": "code",
   "execution_count": null,
   "id": "084f1e50-1b00-41ba-a798-f96880e63883",
   "metadata": {},
   "outputs": [],
   "source": [
    "plt.figure(figsize=(8, 4))\n",
    "plt.plot(K_range, inertia, marker='o')\n",
    "plt.xlabel('Number of Clusters (K)')\n",
    "plt.ylabel('Inertia')\n",
    "plt.title('Elbow Method for Optimal K')\n",
    "plt.show()"
   ]
  },
  {
   "cell_type": "code",
   "execution_count": null,
   "id": "01a55142-8d2c-4137-9207-de77dbd677cc",
   "metadata": {},
   "outputs": [],
   "source": [
    "optimal_k = 5 # Adjust this based on the plot\n",
    "kmeans = KMeans(n_clusters=optimal_k, random_state=42)\n",
    "kmeans.fit(X_scaled)"
   ]
  },
  {
   "cell_type": "code",
   "execution_count": null,
   "id": "a076ba12-9ea0-4a15-9de7-baa3ec8a9562",
   "metadata": {},
   "outputs": [],
   "source": [
    "data['Cluster'] = kmeans.labels_"
   ]
  },
  {
   "cell_type": "code",
   "execution_count": null,
   "id": "90934efc-7d94-47c5-ab39-50bb30611a8d",
   "metadata": {},
   "outputs": [],
   "source": [
    "print(\"\\nDataset with Cluster Assignments:\")\n",
    "print(data.head())"
   ]
  },
  {
   "cell_type": "code",
   "execution_count": null,
   "id": "e8476a13-495f-44c8-bad5-737b92f56198",
   "metadata": {},
   "outputs": [],
   "source": [
    "plt.figure(figsize=(10, 6))\n",
    "plt.scatter(X_scaled[:, 0], X_scaled[:, 1], c=kmeans.labels_, cmap='viridis',\n",
    "marker='o', edgecolor='k')\n",
    "plt.xlabel('Annual Income (scaled)')\n",
    "plt.ylabel('Spending Score (scaled)')\n",
    "plt.title('K-means Clustering of Mall Customers')\n",
    "plt.colorbar(label='Cluster')\n",
    "plt.show()"
   ]
  }
 ],
 "metadata": {
  "kernelspec": {
   "display_name": "Python 3 (ipykernel)",
   "language": "python",
   "name": "python3"
  },
  "language_info": {
   "codemirror_mode": {
    "name": "ipython",
    "version": 3
   },
   "file_extension": ".py",
   "mimetype": "text/x-python",
   "name": "python",
   "nbconvert_exporter": "python",
   "pygments_lexer": "ipython3",
   "version": "3.12.7"
  }
 },
 "nbformat": 4,
 "nbformat_minor": 5
}
