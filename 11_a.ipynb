{
 "cells": [
  {
   "cell_type": "code",
   "execution_count": null,
   "id": "c3f55e2f-87d7-49c3-8c89-6d098d686a1b",
   "metadata": {},
   "outputs": [],
   "source": [
    "import numpy as np\n",
    "import pandas as pd\n",
    "import matplotlib.pyplot as plt\n",
    "from sklearn.datasets import load_boston\n",
    "from sklearn.model_selection import train_test_split\n",
    "from sklearn.linear_model import LinearRegression\n",
    "from sklearn.preprocessing import PolynomialFeatures\n",
    "from sklearn.metrics import mean_squared_error, r2_score"
   ]
  },
  {
   "cell_type": "code",
   "execution_count": null,
   "id": "ee05d508-995b-4c41-96c8-3e6d9acc1ea6",
   "metadata": {},
   "outputs": [],
   "source": [
    "boston = load_boston()\n",
    "X = boston.data # Features (e.g., crime rate, property tax, etc.)\n",
    "y = boston.target # Target variable (house price)"
   ]
  },
  {
   "cell_type": "code",
   "execution_count": null,
   "id": "a19bc132-16d1-44df-8845-8846c9dd116f",
   "metadata": {},
   "outputs": [],
   "source": [
    "X_train, X_test, y_train, y_test = train_test_split(X, y, test_size=0.2,\n",
    "random_state=42)"
   ]
  },
  {
   "cell_type": "code",
   "execution_count": null,
   "id": "ed7cae0a-1b08-4b3b-a8a1-cf47b19641c8",
   "metadata": {},
   "outputs": [],
   "source": [
    "degree = 2 # You can experiment with different degrees (e.g., 3, 4)\n",
    "poly = PolynomialFeatures(degree=degree)"
   ]
  },
  {
   "cell_type": "code",
   "execution_count": null,
   "id": "3fd924d7-5091-49d1-a75e-735cb69de9cb",
   "metadata": {},
   "outputs": [],
   "source": [
    "X_train_poly = poly.fit_transform(X_train)\n",
    "X_test_poly = poly.transform(X_test)"
   ]
  },
  {
   "cell_type": "code",
   "execution_count": null,
   "id": "e79b80b7-9d53-49c2-82fc-ac5fe4aa2868",
   "metadata": {},
   "outputs": [],
   "source": [
    "model = LinearRegression()\n",
    "model.fit(X_train_poly, y_train)"
   ]
  },
  {
   "cell_type": "code",
   "execution_count": null,
   "id": "4fedb585-c611-4332-8570-c5d09d1637fe",
   "metadata": {},
   "outputs": [],
   "source": [
    "y_pred = model.predict(X_test_poly)"
   ]
  },
  {
   "cell_type": "code",
   "execution_count": null,
   "id": "c5762393-4898-45cf-b001-1bbdbabe1454",
   "metadata": {},
   "outputs": [],
   "source": [
    "mse = mean_squared_error(y_test, y_pred)\n",
    "r2 = r2_score(y_test, y_pred)"
   ]
  },
  {
   "cell_type": "code",
   "execution_count": null,
   "id": "99022925-2cca-47c3-9fef-b4ab7ba3f769",
   "metadata": {},
   "outputs": [],
   "source": [
    "print(f'Mean Squared Error (MSE): {mse}')\n",
    "print(f'R-Squared: {r2}')"
   ]
  },
  {
   "cell_type": "code",
   "execution_count": null,
   "id": "28439eda-f31a-47c2-91dc-cff84df1e9f7",
   "metadata": {},
   "outputs": [],
   "source": [
    "plt.scatter(y_test, y_pred)\n",
    "plt.xlabel('True Values (Prices)')\n",
    "plt.ylabel('Predicted Values (Prices)')\n",
    "plt.title('Polynomial Regression: Predicted vs Actual')\n",
    "plt.show()"
   ]
  }
 ],
 "metadata": {
  "kernelspec": {
   "display_name": "Python 3 (ipykernel)",
   "language": "python",
   "name": "python3"
  },
  "language_info": {
   "codemirror_mode": {
    "name": "ipython",
    "version": 3
   },
   "file_extension": ".py",
   "mimetype": "text/x-python",
   "name": "python",
   "nbconvert_exporter": "python",
   "pygments_lexer": "ipython3",
   "version": "3.12.7"
  }
 },
 "nbformat": 4,
 "nbformat_minor": 5
}
