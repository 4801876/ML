{
 "cells": [
  {
   "cell_type": "code",
   "execution_count": null,
   "id": "0075362c-cd9c-4c4d-9c3a-8f4ef7b3c5df",
   "metadata": {},
   "outputs": [],
   "source": [
    "import pandas as pd\n",
    "import numpy as np\n",
    "import matplotlib.pyplot as plt\n",
    "from sklearn.linear_model import LinearRegression\n",
    "from sklearn.model_selection import train_test_split\n",
    "from sklearn.metrics import mean_squared_error"
   ]
  },
  {
   "cell_type": "code",
   "execution_count": null,
   "id": "164a1a8d-6de5-443a-b8ea-571e87c432fa",
   "metadata": {},
   "outputs": [],
   "source": [
    "data = pd.read_csv('house_prices.csv')"
   ]
  },
  {
   "cell_type": "code",
   "execution_count": null,
   "id": "9876af88-4d7e-4aff-9bb1-5116cad23e3b",
   "metadata": {},
   "outputs": [],
   "source": [
    "print(\"First few rows of the dataset:\")\n",
    "print(data.head())"
   ]
  },
  {
   "cell_type": "code",
   "execution_count": null,
   "id": "48da87d3-6d30-4c1c-9836-e8fd0132ad8f",
   "metadata": {},
   "outputs": [],
   "source": [
    "print(\"\\nChecking for null values:\")\n",
    "print(data.isnull().sum())"
   ]
  },
  {
   "cell_type": "code",
   "execution_count": null,
   "id": "56239d1f-eaa2-4389-a989-06b3925de42c",
   "metadata": {},
   "outputs": [],
   "source": [
    "data = data.dropna()\n",
    "print(\"\\nData after removing null values:\")\n",
    "print(data.isnull().sum())"
   ]
  },
  {
   "cell_type": "code",
   "execution_count": null,
   "id": "d54bce1a-cb4a-4220-b000-56f4171436eb",
   "metadata": {},
   "outputs": [],
   "source": [
    "X = data[['SquareFootage']] # Input feature (independent variable)\n",
    "y = data['Price'] # Target variable (dependent variable)"
   ]
  },
  {
   "cell_type": "code",
   "execution_count": null,
   "id": "6d12b58d-153e-44ce-8bb8-8ac68c3a4733",
   "metadata": {},
   "outputs": [],
   "source": [
    "X_train, X_test, y_train, y_test = train_test_split(X, y, test_size=0.2,\n",
    "random_state=42)"
   ]
  },
  {
   "cell_type": "code",
   "execution_count": null,
   "id": "cdfbaacd-07c9-4c0f-9c39-a49b709eafd3",
   "metadata": {},
   "outputs": [],
   "source": [
    "model = LinearRegression()\n",
    "model.fit(X_train, y_train)"
   ]
  },
  {
   "cell_type": "code",
   "execution_count": null,
   "id": "947555ea-f79b-4f0c-8a40-48e78c5f8459",
   "metadata": {},
   "outputs": [],
   "source": [
    "y_pred = model.predict(X_test)"
   ]
  },
  {
   "cell_type": "code",
   "execution_count": null,
   "id": "470f4dc3-5d57-4533-ab06-3d7b63c473b4",
   "metadata": {},
   "outputs": [],
   "source": [
    "mse = mean_squared_error(y_test, y_pred)\n",
    "print(f\"\\nMean Squared Error: {mse}\")"
   ]
  },
  {
   "cell_type": "code",
   "execution_count": null,
   "id": "08554d15-0f66-4f87-af05-ae3813116e9b",
   "metadata": {},
   "outputs": [],
   "source": [
    "print(f\"Slope (Coefficient): {model.coef_[0]}\")\n",
    "print(f\"Intercept: {model.intercept_}\")"
   ]
  },
  {
   "cell_type": "code",
   "execution_count": null,
   "id": "1eacdb97-5d21-45b0-8307-3e2a9672a46c",
   "metadata": {},
   "outputs": [],
   "source": [
    "plt.figure(figsize=(10, 6))\n",
    "plt.scatter(X, y, color='blue', label='Data Points')\n",
    "plt.plot(X, model.predict(X), color='red', linewidth=2, label='Regression Line')\n",
    "plt.xlabel('Square Footage')\n",
    "plt.ylabel('Price')\n",
    "plt.title('House Price Prediction using Linear Regression')\n",
    "plt.legend()\n",
    "plt.show()"
   ]
  },
  {
   "cell_type": "code",
   "execution_count": null,
   "id": "6fe6e777-e2a3-4b47-bcf2-17acfdfa8b57",
   "metadata": {},
   "outputs": [],
   "source": []
  }
 ],
 "metadata": {
  "kernelspec": {
   "display_name": "Python 3 (ipykernel)",
   "language": "python",
   "name": "python3"
  },
  "language_info": {
   "codemirror_mode": {
    "name": "ipython",
    "version": 3
   },
   "file_extension": ".py",
   "mimetype": "text/x-python",
   "name": "python",
   "nbconvert_exporter": "python",
   "pygments_lexer": "ipython3",
   "version": "3.12.7"
  }
 },
 "nbformat": 4,
 "nbformat_minor": 5
}
