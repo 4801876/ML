{
 "cells": [
  {
   "cell_type": "code",
   "execution_count": null,
   "id": "717c8cb4-599a-48f9-a88c-5b9bd28149d0",
   "metadata": {},
   "outputs": [],
   "source": [
    "import numpy as np\n",
    "import pandas as pd\n",
    "import matplotlib.pyplot as plt\n",
    "from sklearn.linear_model import LinearRegression\n",
    "from sklearn.preprocessing import PolynomialFeatures\n",
    "from sklearn.metrics import mean_squared_error, r2_score\n",
    "from sklearn.model_selection import train_test_split"
   ]
  },
  {
   "cell_type": "code",
   "execution_count": null,
   "id": "01c5da76-10c9-4191-90e0-2b52e2a93476",
   "metadata": {},
   "outputs": [],
   "source": [
    "data = pd.read_csv('Salary_positions.csv')\n",
    "X = data['Position Level'].values.reshape(-1, 1) # Features: Position Level\n",
    "y = data['Salary'].values # Target: Salary"
   ]
  },
  {
   "cell_type": "code",
   "execution_count": null,
   "id": "fac9d6a4-4017-49c0-ad10-f5b27343d594",
   "metadata": {},
   "outputs": [],
   "source": [
    "simple_lr = LinearRegression()\n",
    "simple_lr.fit(X, y)"
   ]
  },
  {
   "cell_type": "code",
   "execution_count": null,
   "id": "6d93ae38-177e-4b20-9110-ed538c5557f2",
   "metadata": {},
   "outputs": [],
   "source": [
    "poly = PolynomialFeatures(degree=4)\n",
    "X_poly = poly.fit_transform(X)\n",
    "poly_lr = LinearRegression()\n",
    "poly_lr.fit(X_poly, y)"
   ]
  },
  {
   "cell_type": "code",
   "execution_count": null,
   "id": "6a155b32-6d67-4746-995c-90a10fcd5549",
   "metadata": {},
   "outputs": [],
   "source": [
    "y_pred_simple = simple_lr.predict(X)"
   ]
  },
  {
   "cell_type": "code",
   "execution_count": null,
   "id": "c6e07376-3d3e-4925-95ce-e4abfadb11fe",
   "metadata": {},
   "outputs": [],
   "source": [
    "y_pred_poly = poly_lr.predict(X_poly)"
   ]
  },
  {
   "cell_type": "code",
   "execution_count": null,
   "id": "7a63fd1b-76cc-4f9a-a9ea-5483b8384227",
   "metadata": {},
   "outputs": [],
   "source": [
    "mse_simple = mean_squared_error(y, y_pred_simple)\n",
    "mse_poly = mean_squared_error(y, y_pred_poly)"
   ]
  },
  {
   "cell_type": "code",
   "execution_count": null,
   "id": "8851b637-3819-4547-87bf-2a0208e76cf7",
   "metadata": {},
   "outputs": [],
   "source": [
    "r2_simple = r2_score(y, y_pred_simple)\n",
    "r2_poly = r2_score(y, y_pred_poly)\n",
    "print(f\"Simple Linear Regression MSE: {mse_simple:.2f}\")\n",
    "print(f\"Polynomial Linear Regression MSE: {mse_poly:.2f}\")\n",
    "print(f\"Simple Linear Regression R²: {r2_simple:.2f}\")\n",
    "print(f\"Polynomial Linear Regression R²: {r2_poly:.2f}\")"
   ]
  },
  {
   "cell_type": "code",
   "execution_count": null,
   "id": "069f7d93-0e49-43f0-b895-b3cdd6862c9c",
   "metadata": {},
   "outputs": [],
   "source": [
    "salary_11_simple = simple_lr.predict([[11]]) # Simple LR Prediction for\n",
    "Level 11\n",
    "salary_12_simple = simple_lr.predict([[12]]) # Simple LR Prediction for\n",
    "Level 12\n",
    "salary_11_poly = poly_lr.predict(poly.transform([[11]])) # Polynomial LR\n",
    "Prediction for Level 11\n",
    "salary_12_poly = poly_lr.predict(poly.transform([[12]])) # Polynomial LR\n",
    "Prediction for Level 12\n",
    "print(f\"Predicted salary for level 11 (Simple LR):\n",
    "${salary_11_simple[0]:,.2f}\")\n",
    "print(f\"Predicted salary for level 12 (Simple LR):\n",
    "${salary_12_simple[0]:,.2f}\")\n",
    "print(f\"Predicted salary for level 11 (Polynomial LR):\n",
    "${salary_11_poly[0]:,.2f}\")\n",
    "print(f\"Predicted salary for level 12 (Polynomial LR):\n",
    "${salary_12_poly[0]:,.2f}\")"
   ]
  },
  {
   "cell_type": "code",
   "execution_count": null,
   "id": "d4f2dc4f-d47c-4376-be45-91522cdbabac",
   "metadata": {},
   "outputs": [],
   "source": [
    "plt.scatter(X, y, color='red') # Actual data points\n",
    "plt.plot(X, y_pred_simple, label='Linear Regression', color='blue')\n",
    "plt.plot(X, y_pred_poly, label='Polynomial Regression (degree 4)',\n",
    "color='green')\n",
    "plt.xlabel('Position Level')\n",
    "plt.ylabel('Salary')\n",
    "plt.title('Salary vs Position Level')\n",
    "plt.legend()\n",
    "plt.show()"
   ]
  }
 ],
 "metadata": {
  "kernelspec": {
   "display_name": "Python 3 (ipykernel)",
   "language": "python",
   "name": "python3"
  },
  "language_info": {
   "codemirror_mode": {
    "name": "ipython",
    "version": 3
   },
   "file_extension": ".py",
   "mimetype": "text/x-python",
   "name": "python",
   "nbconvert_exporter": "python",
   "pygments_lexer": "ipython3",
   "version": "3.12.7"
  }
 },
 "nbformat": 4,
 "nbformat_minor": 5
}
