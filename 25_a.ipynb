{
 "cells": [
  {
   "cell_type": "code",
   "execution_count": null,
   "id": "64c2c83a-34d7-4ccb-9a41-de173baf629e",
   "metadata": {},
   "outputs": [],
   "source": [
    "import numpy as np\n",
    "import pandas as pd\n",
    "import matplotlib.pyplot as plt\n",
    "from sklearn.model_selection import train_test_split\n",
    "from sklearn.linear_model import LinearRegression\n",
    "from sklearn.preprocessing import PolynomialFeatures\n",
    "from sklearn.metrics import mean_squared_error, r2_score"
   ]
  },
  {
   "cell_type": "code",
   "execution_count": null,
   "id": "e81cf1a1-404a-497c-9b94-6be94fa64792",
   "metadata": {},
   "outputs": [],
   "source": [
    "url = 'house_price_dataset.csv'  \n",
    "data = pd.read_csv(url)"
   ]
  },
  {
   "cell_type": "code",
   "execution_count": null,
   "id": "efff446c-39e5-4cd7-825d-c7ab5362c561",
   "metadata": {},
   "outputs": [],
   "source": [
    "print(\"First few rows of the dataset:\")\n",
    "print(data.head())"
   ]
  },
  {
   "cell_type": "code",
   "execution_count": null,
   "id": "8826384e-b967-4bd3-8f5d-ea44bd1aa00a",
   "metadata": {},
   "outputs": [],
   "source": [
    "X = data['SquareFeet'].values.reshape(-1, 1) \n",
    "y = data['Price'].values"
   ]
  },
  {
   "cell_type": "code",
   "execution_count": null,
   "id": "e4d06914-6de5-4b8f-aa96-f049c9d6cccb",
   "metadata": {},
   "outputs": [],
   "source": [
    "X_train, X_test, y_train, y_test = train_test_split(X, y, test_size=0.2,\n",
    "random_state=42)"
   ]
  },
  {
   "cell_type": "code",
   "execution_count": null,
   "id": "650f8041-d3f2-4a28-b241-bc13cd8d2202",
   "metadata": {},
   "outputs": [],
   "source": [
    "X_poly_train = poly.fit_transform(X_train)\n",
    "X_poly_test = poly.transform(X_test)"
   ]
  },
  {
   "cell_type": "code",
   "execution_count": null,
   "id": "ae9611c8-71b7-4205-b44f-3492155cbb96",
   "metadata": {},
   "outputs": [],
   "source": [
    "model = LinearRegression()\n",
    "model.fit(X_poly_train, y_train)"
   ]
  },
  {
   "cell_type": "code",
   "execution_count": null,
   "id": "bbfc6044-d74a-46e9-b74d-d42068b8aec2",
   "metadata": {},
   "outputs": [],
   "source": [
    "y_pred_train = model.predict(X_poly_train)\n",
    "y_pred_test = model.predict(X_poly_test)"
   ]
  },
  {
   "cell_type": "code",
   "execution_count": null,
   "id": "def242d4-4f29-4cf0-b64b-448d95f74254",
   "metadata": {},
   "outputs": [],
   "source": [
    "print(\"\\nTrain Mean Squared Error:\", mean_squared_error(y_train, y_pred_train))\n",
    "print(\"Test Mean Squared Error:\", mean_squared_error(y_test, y_pred_test))\n",
    "print(\"\\nTrain R2 Score:\", r2_score(y_train, y_pred_train))\n",
    "print(\"Test R2 Score:\", r2_score(y_test, y_pred_test))"
   ]
  },
  {
   "cell_type": "code",
   "execution_count": null,
   "id": "c1a21160-e1a7-4d51-b49b-da33875d4a15",
   "metadata": {},
   "outputs": [],
   "source": [
    "plt.scatter(X_train, y_train, color='blue', label='Training Data')\n",
    "plt.plot(X_train, y_pred_train, color='red', label='Polynomial Regression Line (train)')"
   ]
  },
  {
   "cell_type": "code",
   "execution_count": null,
   "id": "6b201529-fae3-4526-adf8-9af7d67862e4",
   "metadata": {},
   "outputs": [],
   "source": [
    "plt.scatter(X_test, y_test, color='green', label='Test Data')\n",
    "plt.plot(X_test, y_pred_test, color='orange', label='Polynomial Regression Line (test)')\n",
    "plt.title('Polynomial Regression for House Price Prediction')\n",
    "plt.xlabel('Square Feet')\n",
    "plt.ylabel('Price')\n",
    "plt.legend()\n",
    "plt.show()"
   ]
  }
 ],
 "metadata": {
  "kernelspec": {
   "display_name": "Python 3 (ipykernel)",
   "language": "python",
   "name": "python3"
  },
  "language_info": {
   "codemirror_mode": {
    "name": "ipython",
    "version": 3
   },
   "file_extension": ".py",
   "mimetype": "text/x-python",
   "name": "python",
   "nbconvert_exporter": "python",
   "pygments_lexer": "ipython3",
   "version": "3.12.7"
  }
 },
 "nbformat": 4,
 "nbformat_minor": 5
}
