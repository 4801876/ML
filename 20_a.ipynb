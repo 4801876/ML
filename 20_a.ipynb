{
 "cells": [
  {
   "cell_type": "code",
   "execution_count": null,
   "id": "2351f3e4-9e4b-40ed-9b7a-316f4d3e6013",
   "metadata": {},
   "outputs": [],
   "source": [
    "import pandas as pd\n",
    "import numpy as np\n",
    "from sklearn.model_selection import train_test_split\n",
    "from sklearn.linear_model import Ridge, Lasso\n",
    "from sklearn.metrics import mean_squared_error"
   ]
  },
  {
   "cell_type": "code",
   "execution_count": null,
   "id": "d77abd00-478a-4b52-84fb-024e4b46d8fd",
   "metadata": {},
   "outputs": [],
   "source": [
    "df = pd.read_csv('boston_houses.csv')"
   ]
  },
  {
   "cell_type": "code",
   "execution_count": null,
   "id": "32583b09-c6a2-42b9-9a4d-4834f2fdef4c",
   "metadata": {},
   "outputs": [],
   "source": [
    "df = df[['RM', 'Price']]"
   ]
  },
  {
   "cell_type": "code",
   "execution_count": null,
   "id": "323e305f-e8b0-4a11-b927-5877fad7881c",
   "metadata": {},
   "outputs": [],
   "source": [
    "X = df[['RM']] \n",
    "y = df['Price'] "
   ]
  },
  {
   "cell_type": "code",
   "execution_count": null,
   "id": "17a3c7cd-c77b-46c1-a4b6-69ed4198a8b6",
   "metadata": {},
   "outputs": [],
   "source": [
    "X_train, X_test, y_train, y_test = train_test_split(X, y, test_size=0.2,\n",
    "random_state=42)"
   ]
  },
  {
   "cell_type": "code",
   "execution_count": null,
   "id": "54d4317d-12f1-40fb-a0bc-beba07ad720a",
   "metadata": {},
   "outputs": [],
   "source": [
    "ridge = Ridge(alpha=1.0) \n",
    "ridge.fit(X_train, y_train)"
   ]
  },
  {
   "cell_type": "code",
   "execution_count": null,
   "id": "7c4a3719-a79b-4f6a-9d5e-fe516836969c",
   "metadata": {},
   "outputs": [],
   "source": [
    "lasso = Lasso(alpha=0.1) \n",
    "lasso.fit(X_train, y_train)"
   ]
  },
  {
   "cell_type": "code",
   "execution_count": null,
   "id": "89451334-174d-46da-8ad4-b27f82433ac2",
   "metadata": {},
   "outputs": [],
   "source": [
    "rooms = np.array([[5]])"
   ]
  },
  {
   "cell_type": "code",
   "execution_count": null,
   "id": "848544be-873b-426a-afc3-c7d95523f2a2",
   "metadata": {},
   "outputs": [],
   "source": [
    "ridge_pred = ridge.predict(rooms)\n",
    "lasso_pred = lasso.predict(rooms)"
   ]
  },
  {
   "cell_type": "code",
   "execution_count": null,
   "id": "8ce7f782-0ccc-441d-88d0-2635aea5a291",
   "metadata": {},
   "outputs": [],
   "source": [
    "print(f\"Ridge Regression Prediction for 5 rooms: ${ridge_pred[0]:.2f}\")\n",
    "print(f\"Lasso Regression Prediction for 5 rooms: ${lasso_pred[0]:.2f}\")"
   ]
  },
  {
   "cell_type": "code",
   "execution_count": null,
   "id": "c174ad18-b7d7-49e7-a3c9-14ebab211d2d",
   "metadata": {},
   "outputs": [],
   "source": [
    "ridge_test_pred = ridge.predict(X_test)\n",
    "lasso_test_pred = lasso.predict(X_test)\n",
    "ridge_mse = mean_squared_error(y_test, ridge_test_pred)\n",
    "lasso_mse = mean_squared_error(y_test, lasso_test_pred)\n",
    "print(f\"Ridge Regression MSE on Test Data: {ridge_mse:.2f}\")\n",
    "print(f\"Lasso Regression MSE on Test Data: {lasso_mse:.2f}\")"
   ]
  }
 ],
 "metadata": {
  "kernelspec": {
   "display_name": "Python 3 (ipykernel)",
   "language": "python",
   "name": "python3"
  },
  "language_info": {
   "codemirror_mode": {
    "name": "ipython",
    "version": 3
   },
   "file_extension": ".py",
   "mimetype": "text/x-python",
   "name": "python",
   "nbconvert_exporter": "python",
   "pygments_lexer": "ipython3",
   "version": "3.12.7"
  }
 },
 "nbformat": 4,
 "nbformat_minor": 5
}
