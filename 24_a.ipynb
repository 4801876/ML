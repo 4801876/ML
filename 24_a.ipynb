{
 "cells": [
  {
   "cell_type": "code",
   "execution_count": null,
   "id": "90d41d82-e04f-45e6-85f2-d5e24a214710",
   "metadata": {},
   "outputs": [],
   "source": [
    "import pandas as pd\n",
    "from sklearn.model_selection import train_test_split\n",
    "from sklearn.tree import DecisionTreeClassifier\n",
    "from sklearn.metrics import accuracy_score, classification_report\n",
    "from sklearn.preprocessing import StandardScaler"
   ]
  },
  {
   "cell_type": "code",
   "execution_count": null,
   "id": "f57e5a60-82a1-450c-a3bb-0afb63de892b",
   "metadata": {},
   "outputs": [],
   "source": [
    "url = \"https://archive.ics.uci.edu/ml/machine-learningdatabases/00267/data_banknote_authentication.csv\""
   ]
  },
  {
   "cell_type": "code",
   "execution_count": null,
   "id": "783875a1-c941-4dec-826c-f4acf099d01a",
   "metadata": {},
   "outputs": [],
   "source": [
    "column_names = ['variance', 'skewness', 'curtosis', 'entropy', 'class']"
   ]
  },
  {
   "cell_type": "code",
   "execution_count": null,
   "id": "8960a003-18c1-446a-99bf-f3ae9a89a6d6",
   "metadata": {},
   "outputs": [],
   "source": [
    "data = pd.read_csv(url, names=column_names)"
   ]
  },
  {
   "cell_type": "code",
   "execution_count": null,
   "id": "abcea9fd-4a8b-44bf-a460-c1714d76ef24",
   "metadata": {},
   "outputs": [],
   "source": [
    "print(\"Checking for null values:\")\n",
    "print(data.isnull().sum())"
   ]
  },
  {
   "cell_type": "code",
   "execution_count": null,
   "id": "b18417ea-c2c8-4d95-9cef-05a617c0f464",
   "metadata": {},
   "outputs": [],
   "source": [
    "X = data.drop('class', axis=1) \n",
    "y = data['class']"
   ]
  },
  {
   "cell_type": "code",
   "execution_count": null,
   "id": "fda323ea-8c16-4729-beed-c5fe2d9c5eef",
   "metadata": {},
   "outputs": [],
   "source": [
    "X_train, X_test, y_train, y_test = train_test_split(X, y, test_size=0.2,\n",
    "random_state=42)"
   ]
  },
  {
   "cell_type": "code",
   "execution_count": null,
   "id": "04be11b8-d145-428c-a33b-206ee5732776",
   "metadata": {},
   "outputs": [],
   "source": [
    "scaler = StandardScaler()\n",
    "X_train = scaler.fit_transform(X_train)\n",
    "X_test = scaler.transform(X_test)"
   ]
  },
  {
   "cell_type": "code",
   "execution_count": null,
   "id": "bc3da5cc-c890-4425-a5e3-6d78b1c60c8e",
   "metadata": {},
   "outputs": [],
   "source": [
    "dt_classifier = DecisionTreeClassifier(random_state=42)\n",
    "dt_classifier.fit(X_train, y_train)"
   ]
  },
  {
   "cell_type": "code",
   "execution_count": null,
   "id": "a1aac1ff-e51b-4a5e-bcee-64f4df5a543a",
   "metadata": {},
   "outputs": [],
   "source": [
    "y_pred = dt_classifier.predict(X_test)"
   ]
  },
  {
   "cell_type": "code",
   "execution_count": null,
   "id": "eb2c4122-d5ec-4090-989d-db8c5081ea63",
   "metadata": {},
   "outputs": [],
   "source": [
    "accuracy = accuracy_score(y_test, y_pred)\n",
    "print(f\"\\nAccuracy of Decision Tree Classifier: {accuracy * 100:.2f}%\")"
   ]
  },
  {
   "cell_type": "code",
   "execution_count": null,
   "id": "f8009fed-51f7-4c5a-a84f-74572db5545b",
   "metadata": {},
   "outputs": [],
   "source": [
    "print(\"\\nClassification Report:\")\n",
    "print(classification_report(y_test, y_pred))"
   ]
  }
 ],
 "metadata": {
  "kernelspec": {
   "display_name": "Python 3 (ipykernel)",
   "language": "python",
   "name": "python3"
  },
  "language_info": {
   "codemirror_mode": {
    "name": "ipython",
    "version": 3
   },
   "file_extension": ".py",
   "mimetype": "text/x-python",
   "name": "python",
   "nbconvert_exporter": "python",
   "pygments_lexer": "ipython3",
   "version": "3.12.7"
  }
 },
 "nbformat": 4,
 "nbformat_minor": 5
}
