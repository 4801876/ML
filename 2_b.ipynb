{
 "cells": [
  {
   "cell_type": "code",
   "execution_count": null,
   "id": "c17cd6fe-e889-4995-8894-cc50ad2e808c",
   "metadata": {},
   "outputs": [],
   "source": [
    "mport pandas as pd\n",
    "from sklearn.preprocessing import StandardScaler\n",
    "from sklearn.cluster import AgglomerativeClustering\n",
    "import matplotlib.pyplot as plt\n",
    "import seaborn as sns\n",
    "from scipy.cluster.hierarchy import dendrogram, linkage"
   ]
  },
  {
   "cell_type": "code",
   "execution_count": null,
   "id": "43d81384-b78b-4616-955c-862e1a8885d3",
   "metadata": {},
   "outputs": [],
   "source": [
    "data = pd.read_csv('wholesale_customers.csv')"
   ]
  },
  {
   "cell_type": "code",
   "execution_count": null,
   "id": "8c0709aa-4164-4620-b395-5404c483b689",
   "metadata": {},
   "outputs": [],
   "source": [
    "print(\"First few rows of the dataset:\")\n",
    "print(data.head())"
   ]
  },
  {
   "cell_type": "code",
   "execution_count": null,
   "id": "3779df09-a01e-489f-b228-aa07cda27572",
   "metadata": {},
   "outputs": [],
   "source": [
    "print(\"\\nChecking for null values:\")\n",
    "print(data.isnull().sum())"
   ]
  },
  {
   "cell_type": "code",
   "execution_count": null,
   "id": "db48ddb4-9342-4e34-9d81-b7368650704d",
   "metadata": {},
   "outputs": [],
   "source": [
    "scaler = StandardScaler()\n",
    "data_scaled = scaler.fit_transform(data.iloc[:, 2:]) # Assuming Region and Channel\n",
    "are columns to exclude"
   ]
  },
  {
   "cell_type": "code",
   "execution_count": null,
   "id": "b11b0c35-0d58-4d0c-b7d8-26e6fb1c4871",
   "metadata": {},
   "outputs": [],
   "source": [
    "linked = linkage(data_scaled, method='ward')"
   ]
  },
  {
   "cell_type": "code",
   "execution_count": null,
   "id": "3d7c4e2d-a069-4145-b4c5-9d0c5b38e187",
   "metadata": {},
   "outputs": [],
   "source": [
    "plt.figure(figsize=(10, 7))\n",
    "dendrogram(linked, orientation='top', distance_sort='ascending',\n",
    "show_leaf_counts=False)\n",
    "plt.title('Dendrogram for Agglomerative Clustering')\n",
    "plt.xlabel('Clients')\n",
    "plt.ylabel('Euclidean distances')\n",
    "plt.show()"
   ]
  },
  {
   "cell_type": "code",
   "execution_count": null,
   "id": "b9c74a3c-58b3-42d3-a304-f8bd7215b7e8",
   "metadata": {},
   "outputs": [],
   "source": [
    "n_clusters = 3 # Choose the optimal number from the dendrogram\n",
    "agg_clustering = AgglomerativeClustering(n_clusters=n_clusters, affinity='euclidean',\n",
    "linkage='ward')\n",
    "data['Cluster'] = agg_clustering.fit_predict(data_scaled)"
   ]
  },
  {
   "cell_type": "code",
   "execution_count": null,
   "id": "abd9f465-9919-4b5b-969e-0cb6fd3f4640",
   "metadata": {},
   "outputs": [],
   "source": [
    "plt.figure(figsize=(10, 6))\n",
    "sns.scatterplot(data=data, x='Grocery', y='Fresh', hue='Cluster', palette='viridis')\n",
    "plt.title('Agglomerative Clustering of Wholesale Customers')\n",
    "plt.xlabel('Annual Spending on Grocery')\n",
    "plt.ylabel('Annual Spending on Fresh')\n",
    "plt.show()"
   ]
  },
  {
   "cell_type": "code",
   "execution_count": null,
   "id": "14988ec6-ddfe-4d17-8b0d-a1324a172400",
   "metadata": {},
   "outputs": [],
   "source": [
    "print(\"\\nCluster means for each feature:\")\n",
    "print(data.groupby('Cluster').mean())"
   ]
  },
  {
   "cell_type": "code",
   "execution_count": null,
   "id": "e3e4d512-765e-408f-986e-e0bc6f2b4b11",
   "metadata": {},
   "outputs": [],
   "source": []
  }
 ],
 "metadata": {
  "kernelspec": {
   "display_name": "Python 3 (ipykernel)",
   "language": "python",
   "name": "python3"
  },
  "language_info": {
   "codemirror_mode": {
    "name": "ipython",
    "version": 3
   },
   "file_extension": ".py",
   "mimetype": "text/x-python",
   "name": "python",
   "nbconvert_exporter": "python",
   "pygments_lexer": "ipython3",
   "version": "3.12.7"
  }
 },
 "nbformat": 4,
 "nbformat_minor": 5
}
