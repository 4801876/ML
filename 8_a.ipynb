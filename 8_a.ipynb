{
 "cells": [
  {
   "cell_type": "code",
   "execution_count": null,
   "id": "8425cbe4-4b3e-4672-835a-6d46f2a94904",
   "metadata": {},
   "outputs": [],
   "source": [
    "import pandas as pd\n",
    "from sklearn.datasets import fetch_20newsgroups\n",
    "from sklearn.model_selection import train_test_split\n",
    "from sklearn.feature_extraction.text import TfidfVectorizer\n",
    "from sklearn.naive_bayes import MultinomialNB\n",
    "from sklearn.metrics import accuracy_score, classification_report"
   ]
  },
  {
   "cell_type": "code",
   "execution_count": null,
   "id": "66a01f39-777c-482e-955d-95f5bb046c60",
   "metadata": {},
   "outputs": [],
   "source": [
    "newsgroups = fetch_20newsgroups(subset='all')"
   ]
  },
  {
   "cell_type": "code",
   "execution_count": null,
   "id": "f27782b7-3b37-404f-9e68-d4aa6d089305",
   "metadata": {},
   "outputs": [],
   "source": [
    "X = newsgroups.data # Text data\n",
    "y = newsgroups.target"
   ]
  },
  {
   "cell_type": "code",
   "execution_count": null,
   "id": "0fd028a3-b445-4fe5-9cd2-aa2c65f3ec94",
   "metadata": {},
   "outputs": [],
   "source": [
    "vectorizer = TfidfVectorizer(stop_words='english', max_features=5000)\n",
    "X_tfidf = vectorizer.fit_transform(X)"
   ]
  },
  {
   "cell_type": "code",
   "execution_count": null,
   "id": "034b9427-ba15-45ac-af01-fafd115c1e70",
   "metadata": {},
   "outputs": [],
   "source": [
    "X_train, X_test, y_train, y_test = train_test_split(X_tfidf, y, test_size=0.3,\n",
    "random_state=42)"
   ]
  },
  {
   "cell_type": "code",
   "execution_count": null,
   "id": "8ecf4714-0f0e-4362-b9e6-fe25d1a5a43e",
   "metadata": {},
   "outputs": [],
   "source": [
    "nb_classifier = MultinomialNB()\n",
    "nb_classifier.fit(X_train, y_train)"
   ]
  },
  {
   "cell_type": "code",
   "execution_count": null,
   "id": "d8f9ec1f-c3b2-4ad2-a82f-35c8bc186a36",
   "metadata": {},
   "outputs": [],
   "source": [
    "y_pred = nb_classifier.predict(X_test)"
   ]
  },
  {
   "cell_type": "code",
   "execution_count": null,
   "id": "0c3a266d-d2af-4f5f-ab58-8efa7cc73ead",
   "metadata": {},
   "outputs": [],
   "source": [
    "accuracy = accuracy_score(y_test, y_pred)\n",
    "print(f'Accuracy of the Multinomial Naive Bayes model: {accuracy * 100:.2f}%')"
   ]
  },
  {
   "cell_type": "code",
   "execution_count": null,
   "id": "49f253c0-8665-4a4e-867d-61602deae631",
   "metadata": {},
   "outputs": [],
   "source": [
    "print('\\nClassification Report:')\n",
    "print(classification_report(y_test, y_pred, target_names=newsgroups.target_names))"
   ]
  },
  {
   "cell_type": "code",
   "execution_count": null,
   "id": "77d9f04b-8bab-4f1a-8005-378bef189152",
   "metadata": {},
   "outputs": [],
   "source": [
    "sample_news = [\n",
    "\"NASA's Perseverance rover on Mars has successfully collected its first sample of\n",
    "Martian rock.\"\n",
    "]\n"
   ]
  },
  {
   "cell_type": "code",
   "execution_count": null,
   "id": "b57ca3ac-d413-4c50-a526-9342797ac4c3",
   "metadata": {},
   "outputs": [],
   "source": [
    "sample_tfidf = vectorizer.transform(sample_news)"
   ]
  },
  {
   "cell_type": "code",
   "execution_count": null,
   "id": "18f7d6bd-5b9d-490f-a91b-2c83d0a641ab",
   "metadata": {},
   "outputs": [],
   "source": [
    "predicted_category = nb_classifier.predict(sample_tfidf)\n",
    "print(f'\\nPredicted Category for the sample news:\n",
    "{newsgroups.target_names[predicted_category[0]]}')"
   ]
  }
 ],
 "metadata": {
  "kernelspec": {
   "display_name": "Python 3 (ipykernel)",
   "language": "python",
   "name": "python3"
  },
  "language_info": {
   "codemirror_mode": {
    "name": "ipython",
    "version": 3
   },
   "file_extension": ".py",
   "mimetype": "text/x-python",
   "name": "python",
   "nbconvert_exporter": "python",
   "pygments_lexer": "ipython3",
   "version": "3.12.7"
  }
 },
 "nbformat": 4,
 "nbformat_minor": 5
}
