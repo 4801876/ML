{
 "cells": [
  {
   "cell_type": "code",
   "execution_count": null,
   "id": "ef684d46-3133-457c-98ee-d11033bbf260",
   "metadata": {},
   "outputs": [],
   "source": [
    "import numpy as np\n",
    "import pandas as pd\n",
    "from sklearn import datasets\n",
    "from sklearn.model_selection import train_test_split\n",
    "from sklearn.svm import SVC\n",
    "from sklearn.metrics import accuracy_score"
   ]
  },
  {
   "cell_type": "code",
   "execution_count": null,
   "id": "7ad844b6-5306-4244-abb9-0939756f7336",
   "metadata": {},
   "outputs": [],
   "source": [
    "iris = datasets.load_iris()\n",
    "X = iris.data # Features: sepal length, sepal width, petal length, petal width\n",
    "y = iris.target"
   ]
  },
  {
   "cell_type": "code",
   "execution_count": null,
   "id": "06778772-5189-4e82-adc7-6f088b796d0e",
   "metadata": {},
   "outputs": [],
   "source": [
    "X_train, X_test, y_train, y_test = train_test_split(X, y, test_size=0.2,\n",
    "random_state=42)"
   ]
  },
  {
   "cell_type": "code",
   "execution_count": null,
   "id": "1d7a78df-7f84-43ca-b940-fe6716b196f3",
   "metadata": {},
   "outputs": [],
   "source": [
    "svm_linear = SVC(kernel='linear', random_state=42)\n",
    "svm_linear.fit(X_train, y_train)\n",
    "y_pred_linear = svm_linear.predict(X_test)\n",
    "accuracy_linear = accuracy_score(y_test, y_pred_linear)"
   ]
  },
  {
   "cell_type": "code",
   "execution_count": null,
   "id": "1528f939-cb6a-4bb4-8981-c92dda3cf736",
   "metadata": {},
   "outputs": [],
   "source": [
    "svm_poly = SVC(kernel='poly', degree=3, random_state=42)\n",
    "svm_poly.fit(X_train, y_train)\n",
    "y_pred_poly = svm_poly.predict(X_test)\n",
    "accuracy_poly = accuracy_score(y_test, y_pred_poly)"
   ]
  },
  {
   "cell_type": "code",
   "execution_count": null,
   "id": "092483a2-b36b-4f3e-ba60-eebe1d52ea49",
   "metadata": {},
   "outputs": [],
   "source": [
    "svm_rbf = SVC(kernel='rbf', random_state=42)\n",
    "svm_rbf.fit(X_train, y_train)\n",
    "y_pred_rbf = svm_rbf.predict(X_test)\n",
    "accuracy_rbf = accuracy_score(y_test, y_pred_rbf)"
   ]
  },
  {
   "cell_type": "code",
   "execution_count": null,
   "id": "5882f886-2119-4db6-b21a-326390a68acd",
   "metadata": {},
   "outputs": [],
   "source": [
    "print(f\"Accuracy of SVM with Linear Kernel: {accuracy_linear * 100:.2f}%\")\n",
    "print(f\"Accuracy of SVM with Polynomial Kernel: {accuracy_poly * 100:.2f}%\")\n",
    "print(f\"Accuracy of SVM with RBF Kernel: {accuracy_rbf * 100:.2f}%\")"
   ]
  },
  {
   "cell_type": "code",
   "execution_count": null,
   "id": "4bc137b9-50d6-48ff-a67c-32661631925b",
   "metadata": {},
   "outputs": [],
   "source": [
    "new_data = np.array([[5.1, 3.5, 1.4, 0.2]])"
   ]
  },
  {
   "cell_type": "code",
   "execution_count": null,
   "id": "74074c8f-0ded-4f24-8671-9ee3f36927a1",
   "metadata": {},
   "outputs": [],
   "source": [
    "predicted_class = svm_rbf.predict(new_data)\n",
    "predicted_class_name = iris.target_names[predicted_class][0]\n",
    "print(f\"\\nPredicted flower type for the input data {new_data[0]}:\n",
    "{predicted_class_name}\")"
   ]
  }
 ],
 "metadata": {
  "kernelspec": {
   "display_name": "Python 3 (ipykernel)",
   "language": "python",
   "name": "python3"
  },
  "language_info": {
   "codemirror_mode": {
    "name": "ipython",
    "version": 3
   },
   "file_extension": ".py",
   "mimetype": "text/x-python",
   "name": "python",
   "nbconvert_exporter": "python",
   "pygments_lexer": "ipython3",
   "version": "3.12.7"
  }
 },
 "nbformat": 4,
 "nbformat_minor": 5
}
