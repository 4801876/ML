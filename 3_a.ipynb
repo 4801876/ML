{
 "cells": [
  {
   "cell_type": "code",
   "execution_count": null,
   "id": "4852a7d6-839f-43eb-8da7-ff501a962206",
   "metadata": {},
   "outputs": [],
   "source": [
    "import pandas as pd\n",
    "from sklearn.model_selection import train_test_split\n",
    "from sklearn.linear_model import LinearRegression\n",
    "from sklearn.metrics import mean_squared_error, r2_score"
   ]
  },
  {
   "cell_type": "code",
   "execution_count": null,
   "id": "45e643e1-18bb-4883-bf89-f883aafc3e12",
   "metadata": {},
   "outputs": [],
   "source": [
    "data = pd.read_csv('house_prices.csv')"
   ]
  },
  {
   "cell_type": "code",
   "execution_count": null,
   "id": "9a7a88e8-4742-4f82-9c31-918b7d484fb7",
   "metadata": {},
   "outputs": [],
   "source": [
    "print(\"First few rows of the dataset:\")\n",
    "print(data.head())"
   ]
  },
  {
   "cell_type": "code",
   "execution_count": null,
   "id": "3d0df76e-bcab-425c-b543-b858a556e091",
   "metadata": {},
   "outputs": [],
   "source": [
    "print(\"\\nChecking for null values:\")\n",
    "print(data.isnull().sum())"
   ]
  },
  {
   "cell_type": "code",
   "execution_count": null,
   "id": "bb443eb8-f7a9-4ff5-aa13-11a7a7d15e52",
   "metadata": {},
   "outputs": [],
   "source": [
    "data = data.dropna()"
   ]
  },
  {
   "cell_type": "code",
   "execution_count": null,
   "id": "d032c37e-60ed-4a2e-a065-200ebd98be58",
   "metadata": {},
   "outputs": [],
   "source": [
    "features = ['SquareFootage', 'Bedrooms', 'Bathrooms'] # Independent variables\n",
    "X = data[features]\n",
    "y = data['Price'] # Dependent variable"
   ]
  },
  {
   "cell_type": "code",
   "execution_count": null,
   "id": "746d2139-ec14-445d-b593-0f7baf6b52e4",
   "metadata": {},
   "outputs": [],
   "source": [
    "X_train, X_test, y_train, y_test = train_test_split(X, y, test_size=0.2,\n",
    "random_state=42)"
   ]
  },
  {
   "cell_type": "code",
   "execution_count": null,
   "id": "30a70130-4657-4dfe-9047-6daf918dd4bd",
   "metadata": {},
   "outputs": [],
   "source": [
    "model = LinearRegression()\n",
    "model.fit(X_train, y_train)"
   ]
  },
  {
   "cell_type": "code",
   "execution_count": null,
   "id": "82671301-db22-4841-9f13-46e85e648010",
   "metadata": {},
   "outputs": [],
   "source": [
    "y_pred = model.predict(X_test)"
   ]
  },
  {
   "cell_type": "code",
   "execution_count": null,
   "id": "e52b9427-008a-426a-97bd-03b56a5b326b",
   "metadata": {},
   "outputs": [],
   "source": [
    "mse = mean_squared_error(y_test, y_pred)"
   ]
  },
  {
   "cell_type": "code",
   "execution_count": null,
   "id": "05922d03-30f0-4b8a-93b0-1eefec314e9c",
   "metadata": {},
   "outputs": [],
   "source": [
    "r2 = r2_score(y_test, y_pred)\n",
    "print(f\"\\nMean Squared Error: {mse}\")\n",
    "print(f\"R-squared: {r2}\")"
   ]
  },
  {
   "cell_type": "code",
   "execution_count": null,
   "id": "91a7d24c-1905-49d7-be48-d16c0713da1e",
   "metadata": {},
   "outputs": [],
   "source": [
    "print(\"\\nModel Coefficients:\")\n",
    "for feature, coef in zip(features, model.coef_):\n",
    "print(f\"{feature}: {coef}\")\n",
    "print(f\"Intercept: {model.intercept_}\")"
   ]
  },
  {
   "cell_type": "code",
   "execution_count": null,
   "id": "b744c534-d45d-4438-9acd-f24de6fd223e",
   "metadata": {},
   "outputs": [],
   "source": [
    "sample_input = [[2000, 3, 2]] # Example: 2000 sqft, 3 bedrooms, 2 bathrooms\n",
    "predicted_price = model.predict(sample_input)\n",
    "print(f\"\\nPredicted Price for {sample_input[0]}: {predicted_price[0]}\")"
   ]
  },
  {
   "cell_type": "code",
   "execution_count": null,
   "id": "0b18e627-550f-4ade-9cf1-a6db420713ee",
   "metadata": {},
   "outputs": [],
   "source": []
  }
 ],
 "metadata": {
  "kernelspec": {
   "display_name": "Python 3 (ipykernel)",
   "language": "python",
   "name": "python3"
  },
  "language_info": {
   "codemirror_mode": {
    "name": "ipython",
    "version": 3
   },
   "file_extension": ".py",
   "mimetype": "text/x-python",
   "name": "python",
   "nbconvert_exporter": "python",
   "pygments_lexer": "ipython3",
   "version": "3.12.7"
  }
 },
 "nbformat": 4,
 "nbformat_minor": 5
}
