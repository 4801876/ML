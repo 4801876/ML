{
 "cells": [
  {
   "cell_type": "code",
   "execution_count": null,
   "id": "171af59a-16bd-4871-876d-2adbb88ba0ad",
   "metadata": {},
   "outputs": [],
   "source": [
    "import pandas as pd"
   ]
  },
  {
   "cell_type": "code",
   "execution_count": null,
   "id": "72220777-c414-4612-b169-b7d612c23fe9",
   "metadata": {},
   "outputs": [],
   "source": [
    "data = pd.read_csv('your_dataset.csv')"
   ]
  },
  {
   "cell_type": "code",
   "execution_count": null,
   "id": "ea8d8eb2-9bae-4086-9afd-92a379a9fc7c",
   "metadata": {},
   "outputs": [],
   "source": [
    "print(\"Null values in each column before removal:\")\n",
    "print(data.isnull().sum())"
   ]
  },
  {
   "cell_type": "code",
   "execution_count": null,
   "id": "534f67a4-6a6b-413e-a206-33ed35e85fd5",
   "metadata": {},
   "outputs": [],
   "source": [
    "data_cleaned = data.dropna()"
   ]
  },
  {
   "cell_type": "code",
   "execution_count": null,
   "id": "d72fd65a-77aa-4c39-a6d4-b5c19a1eeda7",
   "metadata": {},
   "outputs": [],
   "source": [
    "print(\"\\nNull values in each column after removal:\")\n",
    "print(data_cleaned.isnull().sum())"
   ]
  },
  {
   "cell_type": "code",
   "execution_count": null,
   "id": "8df15bbd-5566-4ced-9cd7-522742a775e3",
   "metadata": {},
   "outputs": [],
   "source": [
    "data_cleaned.to_csv('cleaned_dataset.csv', index=False)"
   ]
  },
  {
   "cell_type": "code",
   "execution_count": null,
   "id": "218bc33f-4383-4a66-b5a9-68b9ad5a40a2",
   "metadata": {},
   "outputs": [],
   "source": [
    "print(\"\\nFirst few rows of cleaned dataset:\")\n",
    "print(data_cleaned.head())"
   ]
  }
 ],
 "metadata": {
  "kernelspec": {
   "display_name": "Python 3 (ipykernel)",
   "language": "python",
   "name": "python3"
  },
  "language_info": {
   "codemirror_mode": {
    "name": "ipython",
    "version": 3
   },
   "file_extension": ".py",
   "mimetype": "text/x-python",
   "name": "python",
   "nbconvert_exporter": "python",
   "pygments_lexer": "ipython3",
   "version": "3.12.7"
  }
 },
 "nbformat": 4,
 "nbformat_minor": 5
}
