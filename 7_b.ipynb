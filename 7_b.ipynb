{
 "cells": [
  {
   "cell_type": "code",
   "execution_count": null,
   "id": "f34493eb-42ce-49e3-9321-dc3c70b98761",
   "metadata": {},
   "outputs": [],
   "source": [
    "import pandas as pd\n",
    "from sklearn.model_selection import train_test_split\n",
    "from sklearn.naive_bayes import GaussianNB\n",
    "from sklearn.metrics import accuracy_score\n",
    "from sklearn.preprocessing import LabelEncoder"
   ]
  },
  {
   "cell_type": "code",
   "execution_count": null,
   "id": "cfd84e5f-9626-4ec5-9bb1-42b28b0bac8e",
   "metadata": {},
   "outputs": [],
   "source": [
    "data = pd.read_csv('weather_forecast.csv')"
   ]
  },
  {
   "cell_type": "code",
   "execution_count": null,
   "id": "19796042-3d3f-4598-b126-e3bfaf14d2da",
   "metadata": {},
   "outputs": [],
   "source": [
    "label_encoder = LabelEncoder()"
   ]
  },
  {
   "cell_type": "code",
   "execution_count": null,
   "id": "18018757-a96f-4ce8-afa5-2e3acb408d96",
   "metadata": {},
   "outputs": [],
   "source": [
    "data['Temperature'] = label_encoder.fit_transform(data['Temperature'])\n",
    "data['Humidity'] = label_encoder.fit_transform(data['Humidity'])\n",
    "data['Wind'] = label_encoder.fit_transform(data['Wind'])\n",
    "data['Outlook'] = label_encoder.fit_transform(data['Outlook'])"
   ]
  },
  {
   "cell_type": "code",
   "execution_count": null,
   "id": "be5bd484-1f27-424e-83e8-2a8cf4c41130",
   "metadata": {},
   "outputs": [],
   "source": [
    "data['PlayTennis'] = label_encoder.fit_transform(data['PlayTennis'])"
   ]
  },
  {
   "cell_type": "code",
   "execution_count": null,
   "id": "8f928baf-9966-4979-8268-fa183d0a1e3a",
   "metadata": {},
   "outputs": [],
   "source": [
    "X = data.drop('PlayTennis', axis=1) # Features\n",
    "y = data['PlayTennis'] # Target label"
   ]
  },
  {
   "cell_type": "code",
   "execution_count": null,
   "id": "98a32377-2bde-47f7-9e3d-8afee56aa9ce",
   "metadata": {},
   "outputs": [],
   "source": [
    "X_train, X_test, y_train, y_test = train_test_split(X, y, test_size=0.2,\n",
    "random_state=42)"
   ]
  },
  {
   "cell_type": "code",
   "execution_count": null,
   "id": "05ec35cb-7ad9-425f-9fd4-edfbac21fbff",
   "metadata": {},
   "outputs": [],
   "source": [
    "model = GaussianNB() # Using Gaussian Naive Bayes\n",
    "model.fit(X_train, y_train) # Train the model"
   ]
  },
  {
   "cell_type": "code",
   "execution_count": null,
   "id": "b8050bad-bb8e-4957-98fc-295808fcde54",
   "metadata": {},
   "outputs": [],
   "source": [
    "y_pred = model.predict(X_test)"
   ]
  },
  {
   "cell_type": "code",
   "execution_count": null,
   "id": "a3242ffd-ef1d-4eb9-a300-5f16418400b1",
   "metadata": {},
   "outputs": [],
   "source": [
    "accuracy = accuracy_score(y_test, y_pred)\n",
    "print(f'Accuracy of the Naive Bayes model: {accuracy * 100:.2f}%')"
   ]
  },
  {
   "cell_type": "code",
   "execution_count": null,
   "id": "c1c2a2b3-0329-4f4b-a340-ba52893d47e2",
   "metadata": {},
   "outputs": [],
   "source": [
    "sample = pd.DataFrame({'Temperature': [label_encoder.transform(['Mild'])[0]],\n",
    "'Humidity': [label_encoder.transform(['High'])[0]],\n",
    "'Wind': [label_encoder.transform(['Weak'])[0]],\n",
    "'Outlook': [label_encoder.transform(['Sunny'])[0]]})\n",
    "prediction = model.predict(sample)\n",
    "prediction_label = label_encoder.inverse_transform(prediction)\n",
    "print(f'Prediction for the sample: {prediction_label[0]}')"
   ]
  }
 ],
 "metadata": {
  "kernelspec": {
   "display_name": "Python 3 (ipykernel)",
   "language": "python",
   "name": "python3"
  },
  "language_info": {
   "codemirror_mode": {
    "name": "ipython",
    "version": 3
   },
   "file_extension": ".py",
   "mimetype": "text/x-python",
   "name": "python",
   "nbconvert_exporter": "python",
   "pygments_lexer": "ipython3",
   "version": "3.12.7"
  }
 },
 "nbformat": 4,
 "nbformat_minor": 5
}
