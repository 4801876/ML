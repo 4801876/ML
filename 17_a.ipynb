{
 "cells": [
  {
   "cell_type": "code",
   "execution_count": null,
   "id": "8c636746-264a-48c6-8915-93f63bed33da",
   "metadata": {},
   "outputs": [],
   "source": [
    "import numpy as np\n",
    "import pandas as pd\n",
    "import matplotlib.pyplot as plt\n",
    "from sklearn.model_selection import train_test_split\n",
    "from sklearn.preprocessing import StandardScaler\n",
    "from sklearn.ensemble import RandomForestClassifier, AdaBoostClassifier,\n",
    "VotingClassifier, StackingClassifier\n",
    "from sklearn.linear_model import LogisticRegression\n",
    "from sklearn.svm import SVC\n",
    "from sklearn.metrics import accuracy_score\n",
    "from sklearn.datasets import load_iris\n",
    "from sklearn.tree import DecisionTreeClassifier\n",
    "from sklearn.neighbors import KNeighborsClassifier"
   ]
  },
  {
   "cell_type": "code",
   "execution_count": null,
   "id": "2a310120-6a9c-47f2-8497-3578f1f45149",
   "metadata": {},
   "outputs": [],
   "source": [
    "url = \"https://raw.githubusercontent.com/jbrownlee/Datasets/master/pima-indiansdiabetes.data.csv\""
   ]
  },
  {
   "cell_type": "code",
   "execution_count": null,
   "id": "d4343fac-cfc2-42e0-afce-1d267617ea1b",
   "metadata": {},
   "outputs": [],
   "source": [
    "columns = ['Pregnancies', 'Glucose', 'BloodPressure', 'SkinThickness', 'Insulin', 'BMI',\n",
    "'DiabetesPedigreeFunction', 'Age', 'Outcome']\n",
    "data = pd.read_csv(url, names=columns)"
   ]
  },
  {
   "cell_type": "code",
   "execution_count": null,
   "id": "f22de523-235b-48c4-843f-4ebb1d28f548",
   "metadata": {},
   "outputs": [],
   "source": [
    "X = data.drop('Outcome', axis=1)\n",
    "y = data['Outcome']"
   ]
  },
  {
   "cell_type": "code",
   "execution_count": null,
   "id": "83c31a15-f28d-493b-9702-8a74405ccd2d",
   "metadata": {},
   "outputs": [],
   "source": [
    "X_train, X_test, y_train, y_test = train_test_split(X, y, test_size=0.2,\n",
    "random_state=42)"
   ]
  },
  {
   "cell_type": "code",
   "execution_count": null,
   "id": "a462a02d-d12d-41c9-ab71-cf0ff6960ba4",
   "metadata": {},
   "outputs": [],
   "source": [
    "scaler = StandardScaler()\n",
    "X_train = scaler.fit_transform(X_train)\n",
    "X_test = scaler.transform(X_test)"
   ]
  },
  {
   "cell_type": "code",
   "execution_count": null,
   "id": "a89c1427-8327-4dfd-92b4-86e8030d07fb",
   "metadata": {},
   "outputs": [],
   "source": [
    "rf = RandomForestClassifier(n_estimators=100, random_state=42)\n",
    "rf.fit(X_train, y_train)\n",
    "rf_pred = rf.predict(X_test)\n",
    "rf_accuracy = accuracy_score(y_test, rf_pred)"
   ]
  },
  {
   "cell_type": "code",
   "execution_count": null,
   "id": "8ae62ecb-738f-4bee-b4d1-7e2b28d21381",
   "metadata": {},
   "outputs": [],
   "source": [
    "ab = AdaBoostClassifier(n_estimators=100, random_state=42)\n",
    "ab.fit(X_train, y_train)\n",
    "ab_pred = ab.predict(X_test)\n",
    "ab_accuracy = accuracy_score(y_test, ab_pred)"
   ]
  },
  {
   "cell_type": "code",
   "execution_count": null,
   "id": "ca6fbf7a-6cce-470b-83f0-07a2e0c99781",
   "metadata": {},
   "outputs": [],
   "source": [
    "voting_clf = VotingClassifier(estimators=[('rf', rf), ('ab', ab)], voting='hard')\n",
    "voting_clf.fit(X_train, y_train)\n",
    "voting_pred = voting_clf.predict(X_test)\n",
    "voting_accuracy = accuracy_score(y_test, voting_pred)"
   ]
  },
  {
   "cell_type": "code",
   "execution_count": null,
   "id": "a6c264df-2b9f-4396-9231-8085f86df196",
   "metadata": {},
   "outputs": [],
   "source": [
    "estimators = [('rf', rf), ('ab', ab), ('knn', KNeighborsClassifier())]\n",
    "stacking_clf = StackingClassifier(estimators=estimators,\n",
    "final_estimator=LogisticRegression())\n",
    "stacking_clf.fit(X_train, y_train)\n",
    "stacking_pred = stacking_clf.predict(X_test)\n",
    "stacking_accuracy = accuracy_score(y_test, stacking_pred)"
   ]
  },
  {
   "cell_type": "code",
   "execution_count": null,
   "id": "d11df110-9f2d-40ba-8767-37b8d5cc4f5e",
   "metadata": {},
   "outputs": [],
   "source": [
    "print(f\"Random Forest Accuracy: {rf_accuracy:.4f}\")\n",
    "print(f\"AdaBoost Accuracy: {ab_accuracy:.4f}\")\n",
    "print(f\"Voting Classifier Accuracy: {voting_accuracy:.4f}\")\n",
    "print(f\"Stacking Classifier Accuracy: {stacking_accuracy:.4f}\")"
   ]
  },
  {
   "cell_type": "code",
   "execution_count": null,
   "id": "4faf47b9-4e3b-44ae-92e8-38abe3bc6206",
   "metadata": {},
   "outputs": [],
   "source": [
    "methods = ['Random Forest', 'AdaBoost', 'Voting', 'Stacking']\n",
    "accuracies = [rf_accuracy, ab_accuracy, voting_accuracy, stacking_accuracy]\n",
    "plt.figure(figsize=(10, 6))\n",
    "plt.barh(methods, accuracies, color='skyblue')\n",
    "plt.xlabel('Accuracy')\n",
    "plt.title('Comparison of Ensemble Methods on Pima Indians Diabetes Dataset')\n",
    "plt.show()"
   ]
  }
 ],
 "metadata": {
  "kernelspec": {
   "display_name": "Python 3 (ipykernel)",
   "language": "python",
   "name": "python3"
  },
  "language_info": {
   "codemirror_mode": {
    "name": "ipython",
    "version": 3
   },
   "file_extension": ".py",
   "mimetype": "text/x-python",
   "name": "python",
   "nbconvert_exporter": "python",
   "pygments_lexer": "ipython3",
   "version": "3.12.7"
  }
 },
 "nbformat": 4,
 "nbformat_minor": 5
}
