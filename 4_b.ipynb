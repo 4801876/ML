{
 "cells": [
  {
   "cell_type": "code",
   "execution_count": null,
   "id": "d496d07d-ae67-4c05-85eb-f63ba918ac78",
   "metadata": {},
   "outputs": [],
   "source": [
    "mport pandas as pd\n",
    "import numpy as np\n",
    "import matplotlib.pyplot as plt\n",
    "from sklearn.model_selection import train_test_split\n",
    "from sklearn.linear_model import LinearRegression\n",
    "from sklearn.metrics import mean_squared_error, r2_score"
   ]
  },
  {
   "cell_type": "code",
   "execution_count": null,
   "id": "8a050570-37cf-497a-b6b0-ca500c221cd7",
   "metadata": {},
   "outputs": [],
   "source": [
    "data = pd.read_csv('house_prices.csv')"
   ]
  },
  {
   "cell_type": "code",
   "execution_count": null,
   "id": "1a6eef82-7510-49c2-9109-c29ace3b3e38",
   "metadata": {},
   "outputs": [],
   "source": [
    "print(\"First few rows of the dataset:\")\n",
    "print(data.head())"
   ]
  },
  {
   "cell_type": "code",
   "execution_count": null,
   "id": "89c1d051-00cd-4590-8d51-7e34707e8a65",
   "metadata": {},
   "outputs": [],
   "source": [
    "print(\"\\nChecking for null values:\")\n",
    "print(data.isnull().sum())\n",
    "data = data.dropna()"
   ]
  },
  {
   "cell_type": "code",
   "execution_count": null,
   "id": "812ed8d0-f62f-4e89-be7b-823c90d87f3c",
   "metadata": {},
   "outputs": [],
   "source": [
    "X = data[['SquareFootage']] # Feature (independent variable)\n",
    "y = data['Price'] # Target (dependent variable)"
   ]
  },
  {
   "cell_type": "code",
   "execution_count": null,
   "id": "defcbc05-ae9c-4fa5-834a-ae3b32d6753e",
   "metadata": {},
   "outputs": [],
   "source": [
    "X_train, X_test, y_train, y_test = train_test_split(X, y, test_size=0.2,\n",
    "random_state=42)"
   ]
  },
  {
   "cell_type": "code",
   "execution_count": null,
   "id": "662e1183-8d20-4c7a-9be1-3cecc52552c4",
   "metadata": {},
   "outputs": [],
   "source": [
    "model = LinearRegression()\n",
    "model.fit(X_train, y_train)"
   ]
  },
  {
   "cell_type": "code",
   "execution_count": null,
   "id": "b1d70e80-777b-449a-866c-9f41bc175ebb",
   "metadata": {},
   "outputs": [],
   "source": [
    "y_pred = model.predict(X_test)"
   ]
  },
  {
   "cell_type": "code",
   "execution_count": null,
   "id": "c1b5e39c-6887-4515-ac74-093d6e326db1",
   "metadata": {},
   "outputs": [],
   "source": [
    "mse = mean_squared_error(y_test, y_pred)\n",
    "r2 = r2_score(y_test, y_pred)"
   ]
  },
  {
   "cell_type": "code",
   "execution_count": null,
   "id": "f8b9f8c7-7c97-4f47-ab37-b0dc93ef3c6e",
   "metadata": {},
   "outputs": [],
   "source": [
    "print(f\"\\nMean Squared Error (MSE): {mse:.2f}\")\n",
    "print(f\"R-squared (R2) Score: {r2:.2f}\")"
   ]
  },
  {
   "cell_type": "code",
   "execution_count": null,
   "id": "e8525540-49aa-4c43-9509-f3f3d32c430c",
   "metadata": {},
   "outputs": [],
   "source": [
    "print(\"\\nModel Coefficients:\")\n",
    "print(f\"Slope (Coefficient for SquareFootage): {model.coef_[0]:.2f}\")\n",
    "print(f\"Intercept: {model.intercept_:.2f}\")"
   ]
  },
  {
   "cell_type": "code",
   "execution_count": null,
   "id": "b1191073-f266-41a6-8143-089b4d1e23ed",
   "metadata": {},
   "outputs": [],
   "source": [
    "plt.figure(figsize=(10, 6))\n",
    "plt.scatter(X, y, color='blue', label='Actual Prices')\n",
    "plt.plot(X_test, y_pred, color='red', linewidth=2, label='Regression Line')\n",
    "plt.xlabel('Square Footage')\n",
    "plt.ylabel('House Price')\n",
    "plt.title('Simple Linear Regression for House Price Prediction')\n",
    "plt.legend()\n",
    "plt.show()"
   ]
  }
 ],
 "metadata": {
  "kernelspec": {
   "display_name": "Python 3 (ipykernel)",
   "language": "python",
   "name": "python3"
  },
  "language_info": {
   "codemirror_mode": {
    "name": "ipython",
    "version": 3
   },
   "file_extension": ".py",
   "mimetype": "text/x-python",
   "name": "python",
   "nbconvert_exporter": "python",
   "pygments_lexer": "ipython3",
   "version": "3.12.7"
  }
 },
 "nbformat": 4,
 "nbformat_minor": 5
}
