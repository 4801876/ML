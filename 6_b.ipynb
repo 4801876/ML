{
 "cells": [
  {
   "cell_type": "code",
   "execution_count": null,
   "id": "37eefc59-c765-46b8-b8a8-de7073ad20da",
   "metadata": {},
   "outputs": [],
   "source": [
    "mport pandas as pd\n",
    "import numpy as np\n",
    "from sklearn.cluster import KMeans\n",
    "from sklearn.preprocessing import StandardScaler\n",
    "import matplotlib.pyplot as plt\n",
    "import seaborn as sns"
   ]
  },
  {
   "cell_type": "code",
   "execution_count": null,
   "id": "50f30cb7-507a-4e29-987d-b066b2da389d",
   "metadata": {},
   "outputs": [],
   "source": [
    "data = {\n",
    "'Employee_ID': [1, 2, 3, 4, 5, 6, 7, 8, 9, 10],\n",
    "'Income': [45000, 54000, 32000, 60000, 73000, 100000, 25000, 59000, 42000,\n",
    "80000]\n",
    "}\n",
    "df = pd.DataFrame(data)"
   ]
  },
  {
   "cell_type": "code",
   "execution_count": null,
   "id": "1dfdd75c-0e3f-40f4-ac23-ab8a0bfddec9",
   "metadata": {},
   "outputs": [],
   "source": [
    "print(\"\\nInitial Data with null values check:\")\n",
    "print(df.isnull().sum())"
   ]
  },
  {
   "cell_type": "code",
   "execution_count": null,
   "id": "2a49d2b7-4a87-46e2-9e21-f245c023c171",
   "metadata": {},
   "outputs": [],
   "source": [
    "X = df[['Income']]"
   ]
  },
  {
   "cell_type": "code",
   "execution_count": null,
   "id": "f7262257-5c4e-4611-a040-0f6e9299e053",
   "metadata": {},
   "outputs": [],
   "source": [
    "X_scaled = scaler.fit_transform(X)"
   ]
  },
  {
   "cell_type": "code",
   "execution_count": null,
   "id": "df6b5a91-95aa-4e8f-a8b2-3c47659591ed",
   "metadata": {},
   "outputs": [],
   "source": [
    "kmeans = KMeans(n_clusters=3, random_state=42)\n",
    "df['Cluster'] = kmeans.fit_predict(X_scaled)"
   ]
  },
  {
   "cell_type": "code",
   "execution_count": null,
   "id": "c873ea79-0927-47d8-9516-367e9cbc36cf",
   "metadata": {},
   "outputs": [],
   "source": [
    "print(\"\\nCluster Centers (Income groups):\")\n",
    "print(kmeans.cluster_centers_)"
   ]
  },
  {
   "cell_type": "code",
   "execution_count": null,
   "id": "d69a2414-580d-42e3-98f9-b21b8981ad12",
   "metadata": {},
   "outputs": [],
   "source": [
    "print(\"\\nEmployee data with cluster labels:\")\n",
    "print(df)"
   ]
  },
  {
   "cell_type": "code",
   "execution_count": null,
   "id": "d877a487-6335-4ebe-9db5-f066465d084a",
   "metadata": {},
   "outputs": [],
   "source": [
    "plt.figure(figsize=(8, 6))\n",
    "sns.scatterplot(data=df, x='Income', y=np.zeros_like(df['Income']), hue='Cluster',\n",
    "palette='viridis', s=100)\n",
    "plt.title('K-means Clustering of Employees based on Income')\n",
    "plt.xlabel('Income')\n",
    "plt.ylabel('Cluster')\n",
    "plt.show()"
   ]
  }
 ],
 "metadata": {
  "kernelspec": {
   "display_name": "Python 3 (ipykernel)",
   "language": "python",
   "name": "python3"
  },
  "language_info": {
   "codemirror_mode": {
    "name": "ipython",
    "version": 3
   },
   "file_extension": ".py",
   "mimetype": "text/x-python",
   "name": "python",
   "nbconvert_exporter": "python",
   "pygments_lexer": "ipython3",
   "version": "3.12.7"
  }
 },
 "nbformat": 4,
 "nbformat_minor": 5
}
