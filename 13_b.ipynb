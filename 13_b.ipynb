{
 "cells": [
  {
   "cell_type": "code",
   "execution_count": 1,
   "id": "22c74c6a-d335-4e84-9dbc-3e4f132cd766",
   "metadata": {},
   "outputs": [],
   "source": [
    "import pandas as pd\n",
    "import numpy as np\n",
    "import matplotlib.pyplot as plt\n",
    "from sklearn.model_selection import train_test_split\n",
    "from sklearn.linear_model import LinearRegression\n",
    "from sklearn.metrics import mean_squared_error, r2_score"
   ]
  },
  {
   "cell_type": "code",
   "execution_count": 2,
   "id": "9ae423b0-a814-41cf-a204-fd452fc0fbb2",
   "metadata": {},
   "outputs": [],
   "source": [
    "data = {\n",
    "'Area': [1500, 1800, 2400, 3000, 3500, 4000, 4500, 5000, 5500, 6000],\n",
    "'Price': [245000, 312000, 369000, 450000, 512000, 570000, 600000, 650000,\n",
    "700000, 750000]\n",
    "}\n",
    "df = pd.DataFrame(data)"
   ]
  },
  {
   "cell_type": "code",
   "execution_count": 3,
   "id": "deda5b45-ca0f-4cb8-9a42-fc82aab19e95",
   "metadata": {},
   "outputs": [],
   "source": [
    "X = df[['Area']] # Feature (independent variable)\n",
    "y = df['Price'] # Target (dependent variable)"
   ]
  },
  {
   "cell_type": "code",
   "execution_count": null,
   "id": "9d0b4e3e-f7c7-4c6d-8222-6ee5acc9e265",
   "metadata": {},
   "outputs": [],
   "source": [
    "X_train, X_test, y_train, y_test = train_test_split(X, y, test_size=0.2,\n",
    "random_state=42)"
   ]
  },
  {
   "cell_type": "code",
   "execution_count": null,
   "id": "e85cfc3d-bf57-4dfc-b916-483ddc8c9029",
   "metadata": {},
   "outputs": [],
   "source": [
    "model = LinearRegression()"
   ]
  },
  {
   "cell_type": "code",
   "execution_count": null,
   "id": "7227187e-12a7-4f0e-986c-f01ea19baff2",
   "metadata": {},
   "outputs": [],
   "source": [
    "model.fit(X_train, y_train)"
   ]
  },
  {
   "cell_type": "code",
   "execution_count": null,
   "id": "04103491-643d-404d-9d48-06bb54f57d06",
   "metadata": {},
   "outputs": [],
   "source": [
    "y_pred = model.predict(X_test)"
   ]
  },
  {
   "cell_type": "code",
   "execution_count": null,
   "id": "8420a81a-5799-4231-99ab-2877d37da585",
   "metadata": {},
   "outputs": [],
   "source": [
    "mse = mean_squared_error(y_test, y_pred)\n",
    "r2 = r2_score(y_test, y_pred)"
   ]
  },
  {
   "cell_type": "code",
   "execution_count": null,
   "id": "70284821-994c-426f-bd7f-cad0ead851a8",
   "metadata": {},
   "outputs": [],
   "source": [
    "print(f'Mean Squared Error: {mse}')\n",
    "print(f'R-squared: {r2}')"
   ]
  },
  {
   "cell_type": "code",
   "execution_count": null,
   "id": "4bba72b5-6244-4cc1-8a7e-7310f7f55b4c",
   "metadata": {},
   "outputs": [],
   "source": [
    "plt.scatter(X_test, y_test, color='blue', label='Actual prices')\n",
    "plt.plot(X_test, y_pred, color='red', label='Regression line')\n",
    "plt.title('House Price Prediction')\n",
    "plt.xlabel('Area (Square feet)')\n",
    "plt.ylabel('Price')\n",
    "plt.legend()\n",
    "plt.show()"
   ]
  },
  {
   "cell_type": "code",
   "execution_count": null,
   "id": "ae1b65d0-56b9-4194-b185-098871ebe819",
   "metadata": {},
   "outputs": [],
   "source": [
    "new_area = np.array([[2500]]) # Example: 2500 square feet\n",
    "predicted_price = model.predict(new_area)\n",
    "print(f'Predicted price for a house with 2500 sq. feet:\n",
    "${predicted_price[0]:,.2f}')"
   ]
  }
 ],
 "metadata": {
  "kernelspec": {
   "display_name": "Python 3 (ipykernel)",
   "language": "python",
   "name": "python3"
  },
  "language_info": {
   "codemirror_mode": {
    "name": "ipython",
    "version": 3
   },
   "file_extension": ".py",
   "mimetype": "text/x-python",
   "name": "python",
   "nbconvert_exporter": "python",
   "pygments_lexer": "ipython3",
   "version": "3.12.7"
  }
 },
 "nbformat": 4,
 "nbformat_minor": 5
}
