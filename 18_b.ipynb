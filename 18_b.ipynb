{
 "cells": [
  {
   "cell_type": "code",
   "execution_count": null,
   "id": "7777bf40-bea6-4b77-bd7f-b8edf98f1500",
   "metadata": {},
   "outputs": [],
   "source": [
    "import numpy as np\n",
    "import pandas as pd\n",
    "import matplotlib.pyplot as plt\n",
    "from sklearn.linear_model import LinearRegression\n",
    "from sklearn.preprocessing import PolynomialFeatures\n",
    "from sklearn.model_selection import train_test_split\n",
    "from sklearn.metrics import mean_squared_error"
   ]
  },
  {
   "cell_type": "code",
   "execution_count": null,
   "id": "eb0865d4-a20b-40ab-8887-76586b97793e",
   "metadata": {},
   "outputs": [],
   "source": [
    "data = {\n",
    "'Position Level': [1, 2, 3, 4, 5, 6, 7, 8, 9, 10, 11, 12],\n",
    "'Salary': [45000, 50000, 60000, 75000, 90000, 110000, 130000, 150000, 180000,\n",
    "200000, 220000, 250000]\n",
    "}\n",
    "df = pd.DataFrame(data)"
   ]
  },
  {
   "cell_type": "code",
   "execution_count": null,
   "id": "b1b87a1f-395f-4676-a405-e018f234aad3",
   "metadata": {},
   "outputs": [],
   "source": [
    "X = df['Position Level'].values.reshape(-1, 1)  \n",
    "y = df['Salary'].values  "
   ]
  },
  {
   "cell_type": "code",
   "execution_count": null,
   "id": "a9a5954d-f828-4ec4-b23c-d3bbeb854d1e",
   "metadata": {},
   "outputs": [],
   "source": [
    "poly = PolynomialFeatures(degree=4)  \n",
    "X_poly = poly.fit_transform(X)"
   ]
  },
  {
   "cell_type": "code",
   "execution_count": null,
   "id": "909a4a66-eb34-4f24-a57a-fc737180dad3",
   "metadata": {},
   "outputs": [],
   "source": [
    "lin_reg = LinearRegression()\n",
    "lin_reg.fit(X_poly, y)"
   ]
  },
  {
   "cell_type": "code",
   "execution_count": null,
   "id": "472f0d55-3600-413c-b3b3-e56a7da356e5",
   "metadata": {},
   "outputs": [],
   "source": [
    "plt.scatter(X, y, color='blue')"
   ]
  },
  {
   "cell_type": "code",
   "execution_count": null,
   "id": "8e5dfb22-1e58-4137-ada8-db15f8da4190",
   "metadata": {},
   "outputs": [],
   "source": [
    "X_grid = np.arange(min(X), max(X), 0.1)\n",
    "X_grid = X_grid.reshape((len(X_grid), 1))\n",
    "plt.plot(X_grid, lin_reg.predict(poly.transform(X_grid)), color='red')"
   ]
  },
  {
   "cell_type": "code",
   "execution_count": null,
   "id": "47ddd6ce-3b7f-4d57-8156-4b8ed61faf38",
   "metadata": {},
   "outputs": [],
   "source": [
    "plt.title('Polynomial Linear Regression (Salary vs Position Level)')\n",
    "plt.xlabel('Position Level')\n",
    "plt.ylabel('Salary')\n",
    "plt.show()"
   ]
  },
  {
   "cell_type": "code",
   "execution_count": null,
   "id": "2d6db0e7-6cf2-4a96-b476-f3893b3942e2",
   "metadata": {},
   "outputs": [],
   "source": [
    "level_11 = np.array([[11]])\n",
    "level_12 = np.array([[12]])"
   ]
  },
  {
   "cell_type": "code",
   "execution_count": null,
   "id": "232bbe3c-dedb-4cb9-b68e-b9324d89de74",
   "metadata": {},
   "outputs": [],
   "source": [
    "salary_11 = lin_reg.predict(poly.transform(level_11))\n",
    "salary_12 = lin_reg.predict(poly.transform(level_12))\n",
    "print(f\"Predicted Salary for Level 11: {salary_11[0]}\")\n",
    "print(f\"Predicted Salary for Level 12: {salary_12[0]}\")"
   ]
  },
  {
   "cell_type": "code",
   "execution_count": null,
   "id": "0e60108a-332c-4f5e-b548-5ad7dc39ee3b",
   "metadata": {},
   "outputs": [],
   "source": [
    "y_pred = lin_reg.predict(X_poly)\n",
    "mse = mean_squared_error(y, y_pred)\n",
    "print(f\"Mean Squared Error: {mse}\")"
   ]
  },
  {
   "cell_type": "code",
   "execution_count": null,
   "id": "d94bcfcc-e46b-41ca-90f1-f63c3825eec4",
   "metadata": {},
   "outputs": [],
   "source": []
  }
 ],
 "metadata": {
  "kernelspec": {
   "display_name": "Python 3 (ipykernel)",
   "language": "python",
   "name": "python3"
  },
  "language_info": {
   "codemirror_mode": {
    "name": "ipython",
    "version": 3
   },
   "file_extension": ".py",
   "mimetype": "text/x-python",
   "name": "python",
   "nbconvert_exporter": "python",
   "pygments_lexer": "ipython3",
   "version": "3.12.7"
  }
 },
 "nbformat": 4,
 "nbformat_minor": 5
}
