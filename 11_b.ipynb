{
 "cells": [
  {
   "cell_type": "code",
   "execution_count": null,
   "id": "d3410597-528e-4699-9192-1c1f144a40d5",
   "metadata": {},
   "outputs": [],
   "source": [
    "mport pandas as pd\n",
    "from sklearn.model_selection import train_test_split\n",
    "from sklearn.tree import DecisionTreeClassifier\n",
    "from sklearn.metrics import accuracy_score, classification_report\n",
    "import urllib.request"
   ]
  },
  {
   "cell_type": "code",
   "execution_count": null,
   "id": "fe0552cc-0e7f-4c0b-a58c-14211af8d1ab",
   "metadata": {},
   "outputs": [],
   "source": [
    "url = \"https://archive.ics.uci.edu/ml/machine-learning-databases/00267/data.csv\""
   ]
  },
  {
   "cell_type": "code",
   "execution_count": null,
   "id": "afd9c706-2a8f-4996-961f-30e69699d51a",
   "metadata": {},
   "outputs": [],
   "source": [
    "filename = \"banknote-authentication.csv\"\n",
    "urllib.request.urlretrieve(url, filename)"
   ]
  },
  {
   "cell_type": "code",
   "execution_count": null,
   "id": "13dd5628-f0d3-4d48-b651-ddb3d847baad",
   "metadata": {},
   "outputs": [],
   "source": [
    "df = pd.read_csv(filename, header=None)"
   ]
  },
  {
   "cell_type": "code",
   "execution_count": null,
   "id": "f149c757-3a4e-49e8-95d1-fecf3a0ff512",
   "metadata": {},
   "outputs": [],
   "source": [
    "df.columns = ['Variance', 'Skewness', 'Curtosis', 'Entropy', 'Class']"
   ]
  },
  {
   "cell_type": "code",
   "execution_count": null,
   "id": "605386ca-1e63-4008-96fa-1c2f709fd627",
   "metadata": {},
   "outputs": [],
   "source": [
    "X = df.drop(columns='Class') # Features (all columns except 'Class')\n",
    "y = df['Class'] # Target ('Class' column, where 0 = forged, 1 = genuine)"
   ]
  },
  {
   "cell_type": "code",
   "execution_count": null,
   "id": "c6b5fc0d-14f1-4f89-bb02-82b041226f1d",
   "metadata": {},
   "outputs": [],
   "source": [
    "X_train, X_test, y_train, y_test = train_test_split(X, y, test_size=0.2,\n",
    "random_state=42)"
   ]
  },
  {
   "cell_type": "code",
   "execution_count": null,
   "id": "09088b90-040e-40f2-98dc-3e4b08416321",
   "metadata": {},
   "outputs": [],
   "source": [
    "model = DecisionTreeClassifier(random_state=42)\n",
    "model.fit(X_train, y_train)"
   ]
  },
  {
   "cell_type": "code",
   "execution_count": null,
   "id": "de44fdd7-3f58-4a7e-98fc-686f1cd68b5f",
   "metadata": {},
   "outputs": [],
   "source": [
    "y_pred = model.predict(X_test)"
   ]
  },
  {
   "cell_type": "code",
   "execution_count": null,
   "id": "78baad2c-d6a0-4ef8-bf0b-700fee4ebeac",
   "metadata": {},
   "outputs": [],
   "source": [
    "accuracy = accuracy_score(y_test, y_pred)\n",
    "print(f'Accuracy: {accuracy:.2f}')"
   ]
  },
  {
   "cell_type": "code",
   "execution_count": null,
   "id": "6c833fd7-ebf0-4975-a6b6-140693ad81a3",
   "metadata": {},
   "outputs": [],
   "source": [
    "print(\"Classification Report:\")\n",
    "print(classification_report(y_test, y_pred))"
   ]
  }
 ],
 "metadata": {
  "kernelspec": {
   "display_name": "Python 3 (ipykernel)",
   "language": "python",
   "name": "python3"
  },
  "language_info": {
   "codemirror_mode": {
    "name": "ipython",
    "version": 3
   },
   "file_extension": ".py",
   "mimetype": "text/x-python",
   "name": "python",
   "nbconvert_exporter": "python",
   "pygments_lexer": "ipython3",
   "version": "3.12.7"
  }
 },
 "nbformat": 4,
 "nbformat_minor": 5
}
