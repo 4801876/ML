{
 "cells": [
  {
   "cell_type": "code",
   "execution_count": null,
   "id": "9282009d-6651-48ec-870d-3f8a51ad82a5",
   "metadata": {},
   "outputs": [],
   "source": [
    "import pandas as pd\n",
    "import seaborn as sns\n",
    "import matplotlib.pyplot as plt\n",
    "from sklearn.datasets import load_iris"
   ]
  },
  {
   "cell_type": "code",
   "execution_count": null,
   "id": "b3b33fe8-21c9-4e44-83c5-69cbebdd5279",
   "metadata": {},
   "outputs": [],
   "source": [
    "species_map = {0: 'setosa', 1: 'versicolor', 2: 'virginica'}\n",
    "iris_df['species'] = iris_df['species'].map(species_map)"
   ]
  },
  {
   "cell_type": "code",
   "execution_count": null,
   "id": "0de7e267-f939-44c1-aade-afab06afac69",
   "metadata": {},
   "outputs": [],
   "source": [
    "iris_df['species_numeric'] = iris_df['species'].astype('category').cat.codes"
   ]
  },
  {
   "cell_type": "code",
   "execution_count": null,
   "id": "2e4162c8-83cd-4c71-8fe4-3a927da82fc8",
   "metadata": {},
   "outputs": [],
   "source": [
    "print(\"Data with numeric species values:\")\n",
    "print(iris_df.head())"
   ]
  },
  {
   "cell_type": "code",
   "execution_count": null,
   "id": "1c68f9c2-a904-493e-9481-690608a4fdbb",
   "metadata": {},
   "outputs": [],
   "source": [
    "petal width\n",
    "plt.figure(figsize=(14, 6))"
   ]
  },
  {
   "cell_type": "code",
   "execution_count": null,
   "id": "7c64ea91-f3a9-4d76-8776-6b5488efbd0a",
   "metadata": {},
   "outputs": [],
   "source": [
    "plt.subplot(1, 2, 1)\n",
    "sns.scatterplot(data=iris_df, x='sepal length (cm)', y='sepal width (cm)',\n",
    "hue='species_numeric', palette='viridis')\n",
    "plt.title(\"Sepal Length vs Sepal Width\")\n",
    "plt.xlabel(\"Sepal Length (cm)\")\n",
    "plt.ylabel(\"Sepal Width (cm)\")"
   ]
  },
  {
   "cell_type": "code",
   "execution_count": null,
   "id": "08c3272d-f1a4-49f4-9e9b-f4c4360aea3c",
   "metadata": {},
   "outputs": [],
   "source": [
    "plt.subplot(1, 2, 2)\n",
    "sns.scatterplot(data=iris_df, x='petal length (cm)', y='petal width (cm)',\n",
    "hue='species_numeric', palette='viridis')\n",
    "plt.title(\"Petal Length vs Petal Width\")\n",
    "plt.xlabel(\"Petal Length (cm)\")\n",
    "plt.ylabel(\"Petal Width (cm)\")"
   ]
  },
  {
   "cell_type": "code",
   "execution_count": null,
   "id": "42d305b1-b45a-46d2-b8f3-b8ccccf825f4",
   "metadata": {},
   "outputs": [],
   "source": [
    "plt.tight_layout()\n",
    "plt.show()"
   ]
  }
 ],
 "metadata": {
  "kernelspec": {
   "display_name": "Python 3 (ipykernel)",
   "language": "python",
   "name": "python3"
  },
  "language_info": {
   "codemirror_mode": {
    "name": "ipython",
    "version": 3
   },
   "file_extension": ".py",
   "mimetype": "text/x-python",
   "name": "python",
   "nbconvert_exporter": "python",
   "pygments_lexer": "ipython3",
   "version": "3.12.7"
  }
 },
 "nbformat": 4,
 "nbformat_minor": 5
}
