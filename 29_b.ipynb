{
 "cells": [
  {
   "cell_type": "code",
   "execution_count": null,
   "id": "15a45787-9ec0-4138-a6a7-832b8d61e110",
   "metadata": {},
   "outputs": [],
   "source": [
    "import numpy as np\n",
    "import pandas as pd\n",
    "import matplotlib.pyplot as plt\n",
    "from sklearn.cluster import KMeans\n",
    "from sklearn.preprocessing import StandardScaler\n",
    "from sklearn.metrics import silhouette_score"
   ]
  },
  {
   "cell_type": "code",
   "execution_count": null,
   "id": "b46bcb0a-0610-4547-af38-027286699192",
   "metadata": {},
   "outputs": [],
   "source": [
    "df = pd.read_csv('employee_data.csv')"
   ]
  },
  {
   "cell_type": "code",
   "execution_count": null,
   "id": "afb0882d-a40d-4507-816b-c50ec8d250f7",
   "metadata": {},
   "outputs": [],
   "source": [
    "df.dropna(inplace=True)"
   ]
  },
  {
   "cell_type": "code",
   "execution_count": null,
   "id": "0772045a-835b-4c31-8d88-1717f2e8be58",
   "metadata": {},
   "outputs": [],
   "source": [
    "X = df[['Income', 'Age']].values"
   ]
  },
  {
   "cell_type": "code",
   "execution_count": null,
   "id": "1661427d-0408-49df-90b7-e59a2cdc79b0",
   "metadata": {},
   "outputs": [],
   "source": [
    "scaler = StandardScaler()\n",
    "X_scaled = scaler.fit_transform(X)"
   ]
  },
  {
   "cell_type": "code",
   "execution_count": null,
   "id": "bcc4b7be-cf3b-48d6-aa0d-77c0c287999d",
   "metadata": {},
   "outputs": [],
   "source": [
    "inertia = []\n",
    "k_range = range(1, 11)\n",
    "for k in k_range:\n",
    "    kmeans = KMeans(n_clusters=k, random_state=42)\n",
    "    kmeans.fit(X_scaled)\n",
    "    inertia.append(kmeans.inertia_)"
   ]
  },
  {
   "cell_type": "code",
   "execution_count": null,
   "id": "b8407012-3e36-4625-9989-375624ff14bc",
   "metadata": {},
   "outputs": [],
   "source": [
    "plt.figure(figsize=(8, 6))\n",
    "plt.plot(k_range, inertia, marker='o', linestyle='-', color='b')\n",
    "plt.title('Elbow Method to Find Optimal K')\n",
    "plt.xlabel('Number of Clusters (k)')\n",
    "plt.ylabel('Inertia (Sum of Squared Distances)')\n",
    "plt.show()"
   ]
  },
  {
   "cell_type": "code",
   "execution_count": null,
   "id": "e9181d3d-b69d-4aa0-b80c-58b4841f69a5",
   "metadata": {},
   "outputs": [],
   "source": [
    "sil_scores = []\n",
    "for k in k_range[1:]:\n",
    "kmeans = KMeans(n_clusters=k, random_state=42)\n",
    "kmeans.fit(X_scaled)\n",
    "score = silhouette_score(X_scaled, kmeans.labels_)\n",
    "sil_scores.append(score)"
   ]
  },
  {
   "cell_type": "code",
   "execution_count": null,
   "id": "171db483-71a5-4e05-953e-3ff2e193a548",
   "metadata": {},
   "outputs": [],
   "source": [
    "plt.figure(figsize=(8, 6))\n",
    "plt.plot(k_range[1:], sil_scores, marker='o', linestyle='-', color='g')\n",
    "plt.title('Silhouette Score for Different K')\n",
    "plt.xlabel('Number of Clusters (k)')\n",
    "plt.ylabel('Silhouette Score')\n",
    "plt.show()"
   ]
  },
  {
   "cell_type": "code",
   "execution_count": null,
   "id": "21b3baf1-2b84-4aa2-9c14-aea57b960284",
   "metadata": {},
   "outputs": [],
   "source": [
    "optimal_k = 3 # Chosen based on elbow and silhouette score\n",
    "kmeans = KMeans(n_clusters=optimal_k, random_state=42)\n",
    "kmeans.fit(X_scaled)"
   ]
  },
  {
   "cell_type": "code",
   "execution_count": null,
   "id": "8dabcc54-9350-4bc1-b840-e0346453d9e8",
   "metadata": {},
   "outputs": [],
   "source": [
    "df['Cluster'] = kmeans.labels_"
   ]
  },
  {
   "cell_type": "code",
   "execution_count": null,
   "id": "938dc429-3400-4df9-b2e7-1dfb595cfa04",
   "metadata": {},
   "outputs": [],
   "source": [
    "print(f\"Cluster Centers:\\n{kmeans.cluster_centers_}\")\n",
    "print(f\"Cluster Distribution:\\n{df['Cluster'].value_counts()}\")"
   ]
  },
  {
   "cell_type": "code",
   "execution_count": null,
   "id": "995cb108-8a6c-46e0-9951-52b09d95ff16",
   "metadata": {},
   "outputs": [],
   "source": [
    "plt.figure(figsize=(8, 6))\n",
    "plt.scatter(X_scaled[:, 0], X_scaled[:, 1], c=df['Cluster'], cmap='viridis')\n",
    "plt.title('Employee Clusters Based on Income and Age')\n",
    "plt.xlabel('Income (Standardized)')\n",
    "plt.ylabel('Age (Standardized)')\n",
    "plt.show()"
   ]
  },
  {
   "cell_type": "code",
   "execution_count": null,
   "id": "8b28820f-b5ae-4cb5-9d55-30823ad52640",
   "metadata": {},
   "outputs": [],
   "source": [
    "new_employee = np.array([[50000, 30]])"
   ]
  },
  {
   "cell_type": "code",
   "execution_count": null,
   "id": "0b168367-e4c9-4541-abe4-504189f182e1",
   "metadata": {},
   "outputs": [],
   "source": [
    "new_employee_scaled = scaler.transform(new_employee)"
   ]
  },
  {
   "cell_type": "code",
   "execution_count": null,
   "id": "dcd4c6b8-5be7-4369-ba5c-9ca06309b12a",
   "metadata": {},
   "outputs": [],
   "source": [
    "new_cluster = kmeans.predict(new_employee_scaled)\n",
    "print(f\"The new employee belongs to Cluster: {new_cluster[0]}\")"
   ]
  }
 ],
 "metadata": {
  "kernelspec": {
   "display_name": "Python 3 (ipykernel)",
   "language": "python",
   "name": "python3"
  },
  "language_info": {
   "codemirror_mode": {
    "name": "ipython",
    "version": 3
   },
   "file_extension": ".py",
   "mimetype": "text/x-python",
   "name": "python",
   "nbconvert_exporter": "python",
   "pygments_lexer": "ipython3",
   "version": "3.12.7"
  }
 },
 "nbformat": 4,
 "nbformat_minor": 5
}
