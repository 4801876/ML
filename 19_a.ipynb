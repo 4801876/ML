{
 "cells": [
  {
   "cell_type": "code",
   "execution_count": null,
   "id": "500e1836-b0d9-4556-b283-086c29367d1a",
   "metadata": {},
   "outputs": [],
   "source": [
    "import numpy as np\n",
    "import pandas as pd\n",
    "import matplotlib.pyplot as plt\n",
    "from sklearn.linear_model import LinearRegression\n",
    "from sklearn.preprocessing import PolynomialFeatures\n",
    "from sklearn.metrics import mean_squared_error"
   ]
  },
  {
   "cell_type": "code",
   "execution_count": null,
   "id": "a76b979e-c869-48c4-9f23-2c49a12081ab",
   "metadata": {},
   "outputs": [],
   "source": [
    "df = pd.read_csv('Salary_positions.csv')"
   ]
  },
  {
   "cell_type": "code",
   "execution_count": null,
   "id": "65a43c2c-98f0-40c2-bbf0-d625b8bf1181",
   "metadata": {},
   "outputs": [],
   "source": [
    "X = df['Position Level'].values.reshape(-1, 1) \n",
    "y = df['Salary'].values"
   ]
  },
  {
   "cell_type": "code",
   "execution_count": null,
   "id": "8e13f349-5ca4-47ae-ae8c-d65fca271e8e",
   "metadata": {},
   "outputs": [],
   "source": [
    "simple_linear_reg = LinearRegression()\n",
    "simple_linear_reg.fit(X, y)"
   ]
  },
  {
   "cell_type": "code",
   "execution_count": null,
   "id": "90e94518-e7fa-4d05-ad26-4489e61b3a5a",
   "metadata": {},
   "outputs": [],
   "source": [
    "poly = PolynomialFeatures(degree=4)\n",
    "X_poly = poly.fit_transform(X)\n",
    "poly_linear_reg = LinearRegression()\n",
    "poly_linear_reg.fit(X_poly, y)"
   ]
  },
  {
   "cell_type": "code",
   "execution_count": null,
   "id": "4b24515f-2914-422b-bdc5-79d758b18244",
   "metadata": {},
   "outputs": [],
   "source": [
    "y_pred_simple = simple_linear_reg.predict(X)\n",
    "y_pred_poly = poly_linear_reg.predict(X_poly)"
   ]
  },
  {
   "cell_type": "code",
   "execution_count": null,
   "id": "51917e0f-6e8d-4412-ab0b-a1e18c0b1fd0",
   "metadata": {},
   "outputs": [],
   "source": [
    "mse_simple = mean_squared_error(y, y_pred_simple)\n",
    "mse_poly = mean_squared_error(y, y_pred_poly)"
   ]
  },
  {
   "cell_type": "code",
   "execution_count": null,
   "id": "8b7ebbf6-6217-43c7-b4cc-da316874b05d",
   "metadata": {},
   "outputs": [],
   "source": [
    "print(f\"Mean Squared Error for Simple Linear Regression: {mse_simple}\")\n",
    "print(f\"Mean Squared Error for Polynomial Linear Regression: {mse_poly}\")"
   ]
  },
  {
   "cell_type": "code",
   "execution_count": null,
   "id": "9063cadd-4c57-4995-85ec-fec37768b751",
   "metadata": {},
   "outputs": [],
   "source": [
    "level_11 = np.array([[11]])\n",
    "level_12 = np.array([[12]])"
   ]
  },
  {
   "cell_type": "code",
   "execution_count": null,
   "id": "03496c98-e4e7-4e98-a39c-26da510cc4af",
   "metadata": {},
   "outputs": [],
   "source": [
    "salary_11_simple = simple_linear_reg.predict(level_11)\n",
    "salary_12_simple = simple_linear_reg.predict(level_12)"
   ]
  },
  {
   "cell_type": "code",
   "execution_count": null,
   "id": "76108c4b-664e-49ed-bfac-cfed14f8f4c7",
   "metadata": {},
   "outputs": [],
   "source": [
    "salary_11_poly = poly_linear_reg.predict(poly.transform(level_11))\n",
    "salary_12_poly = poly_linear_reg.predict(poly.transform(level_12))"
   ]
  },
  {
   "cell_type": "code",
   "execution_count": null,
   "id": "9d93a8e9-ede5-4bd7-bdfa-38e599df527a",
   "metadata": {},
   "outputs": [],
   "source": [
    "print(f\"Predicted Salary for Level 11 (Simple Linear Regression):\n",
    "{salary_11_simple[0]}\")\n",
    "print(f\"Predicted Salary for Level 12 (Simple Linear Regression):\n",
    "{salary_12_simple[0]}\")\n",
    "print(f\"Predicted Salary for Level 11 (Polynomial Linear Regression):\n",
    "{salary_11_poly[0]}\")\n",
    "print(f\"Predicted Salary for Level 12 (Polynomial Linear Regression):\n",
    "{salary_12_poly[0]}\")"
   ]
  },
  {
   "cell_type": "code",
   "execution_count": null,
   "id": "5a657f3d-bd18-4af8-8c15-34bf31d23748",
   "metadata": {},
   "outputs": [],
   "source": [
    "plt.scatter(X, y, color='blue')\n",
    "plt.plot(X, y_pred_simple, color='red')\n",
    "plt.title('Simple Linear Regression')\n",
    "plt.xlabel('Position Level')\n",
    "plt.ylabel('Salary')\n",
    "plt.show()"
   ]
  },
  {
   "cell_type": "code",
   "execution_count": null,
   "id": "f1ed28c6-7a50-4332-9fcf-937e9b9589e7",
   "metadata": {},
   "outputs": [],
   "source": [
    "plt.scatter(X, y, color='blue')\n",
    "X_grid = np.arange(min(X), max(X), 0.1) # To create a smooth curve\n",
    "X_grid = X_grid.reshape((len(X_grid), 1))\n",
    "plt.plot(X_grid, poly_linear_reg.predict(poly.transform(X_grid)), color='red')\n",
    "plt.title('Polynomial Linear Regression')\n",
    "plt.xlabel('Position Level')\n",
    "plt.ylabel('Salary')\n",
    "plt.show()"
   ]
  }
 ],
 "metadata": {
  "kernelspec": {
   "display_name": "Python 3 (ipykernel)",
   "language": "python",
   "name": "python3"
  },
  "language_info": {
   "codemirror_mode": {
    "name": "ipython",
    "version": 3
   },
   "file_extension": ".py",
   "mimetype": "text/x-python",
   "name": "python",
   "nbconvert_exporter": "python",
   "pygments_lexer": "ipython3",
   "version": "3.12.7"
  }
 },
 "nbformat": 4,
 "nbformat_minor": 5
}
