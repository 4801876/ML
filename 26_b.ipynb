{
 "cells": [
  {
   "cell_type": "code",
   "execution_count": null,
   "id": "6b1c882c-7813-405e-8ddd-309bfed17502",
   "metadata": {},
   "outputs": [],
   "source": [
    "import pandas as pd\n",
    "from mlxtend.frequent_patterns import apriori, association_rules"
   ]
  },
  {
   "cell_type": "code",
   "execution_count": null,
   "id": "90cc44fc-003e-4314-a5bc-db87a3b9bc3a",
   "metadata": {},
   "outputs": [],
   "source": [
    "data = {'TransactionID': [1, 2, 3, 4, 5, 6],\n",
    "'Items': [['Milk', 'Eggs', 'Bread'],\n",
    "['Milk', 'Diaper', 'Beer', 'Eggs'],\n",
    "['Bread', 'Milk', 'Diaper', 'Beer'],\n",
    "['Milk', 'Eggs', 'Bread', 'Diaper'],\n",
    "['Milk', 'Bread', 'Diaper', 'Beer'],\n",
    "['Eggs', 'Bread', 'Beer']]}"
   ]
  },
  {
   "cell_type": "code",
   "execution_count": null,
   "id": "35b67cac-35e5-4a28-b8b1-4a1ae0debdde",
   "metadata": {},
   "outputs": [],
   "source": [
    "groceries_df = pd.DataFrame(data)"
   ]
  },
  {
   "cell_type": "code",
   "execution_count": null,
   "id": "7e0f0fa6-5251-4fc3-a967-05af23ae94b4",
   "metadata": {},
   "outputs": [],
   "source": [
    "all_items = list(set([item for sublist in groceries_df['Items'] for item in sublist]))"
   ]
  },
  {
   "cell_type": "code",
   "execution_count": null,
   "id": "a6e1a3a2-51e7-46a3-8491-2f803a6a8df2",
   "metadata": {},
   "outputs": [],
   "source": [
    "basket = pd.DataFrame(0, index=groceries_df['TransactionID'], columns=all_items)"
   ]
  },
  {
   "cell_type": "code",
   "execution_count": null,
   "id": "08d53c44-2fcb-45f6-a92b-3b101310aa6e",
   "metadata": {},
   "outputs": [],
   "source": [
    "for idx, row in groceries_df.iterrows():\n",
    "for item in row['Items']:\n",
    "basket.at[idx, item] = 1\n"
   ]
  },
  {
   "cell_type": "code",
   "execution_count": null,
   "id": "60df3daf-32e7-43ba-b270-a80ea0d4e541",
   "metadata": {},
   "outputs": [],
   "source": [
    "frequent_itemsets = apriori(basket, min_support=0.25, use_colnames=True)"
   ]
  },
  {
   "cell_type": "code",
   "execution_count": null,
   "id": "e2bd6d5d-b850-4873-950b-ce5f22ef6891",
   "metadata": {},
   "outputs": [],
   "source": [
    "rules = association_rules(frequent_itemsets, metric=\"lift\", min_threshold=1)"
   ]
  },
  {
   "cell_type": "code",
   "execution_count": null,
   "id": "23a7ba29-3520-40a9-9e40-8dd1d9c2bba4",
   "metadata": {},
   "outputs": [],
   "source": [
    "print(\"Frequent Itemsets:\")\n",
    "print(frequent_itemsets)\n",
    "print(\"\\nAssociation Rules:\")\n",
    "print(rules)"
   ]
  }
 ],
 "metadata": {
  "kernelspec": {
   "display_name": "Python 3 (ipykernel)",
   "language": "python",
   "name": "python3"
  },
  "language_info": {
   "codemirror_mode": {
    "name": "ipython",
    "version": 3
   },
   "file_extension": ".py",
   "mimetype": "text/x-python",
   "name": "python",
   "nbconvert_exporter": "python",
   "pygments_lexer": "ipython3",
   "version": "3.12.7"
  }
 },
 "nbformat": 4,
 "nbformat_minor": 5
}
