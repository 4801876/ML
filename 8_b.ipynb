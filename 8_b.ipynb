{
 "cells": [
  {
   "cell_type": "code",
   "execution_count": null,
   "id": "01050be8-bbc5-4c78-9cbf-e61dd9ced3f8",
   "metadata": {},
   "outputs": [],
   "source": [
    "import pandas as pd\n",
    "from sklearn.tree import DecisionTreeClassifier\n",
    "from sklearn.model_selection import train_test_split\n",
    "from sklearn.metrics import accuracy_score, classification_report\n",
    "from sklearn.preprocessing import LabelEncoder"
   ]
  },
  {
   "cell_type": "code",
   "execution_count": null,
   "id": "4865ae17-2ca2-4dea-ae44-5a25990509a9",
   "metadata": {},
   "outputs": [],
   "source": [
    "data = {\n",
    "'Outlook': ['Sunny', 'Sunny', 'Overcast', 'Rain', 'Rain', 'Rain', 'Overcast', 'Sunny',\n",
    "'Sunny', 'Rain', 'Sunny', 'Overcast', 'Overcast', 'Rain'],\n",
    "'Temperature': ['Hot', 'Hot', 'Hot', 'Mild', 'Mild', 'Cool', 'Cool', 'Mild', 'Mild', 'Mild',\n",
    "'Mild', 'Mild', 'Mild', 'Hot'],\n",
    "'Humidity': ['High', 'High', 'High', 'High', 'Low', 'Low', 'Low', 'High', 'Low', 'Low',\n",
    "'High', 'Low', 'Low', 'High'],\n",
    "'Wind': ['Weak', 'Strong', 'Weak', 'Weak', 'Weak', 'Weak', 'Strong', 'Weak', 'Weak',\n",
    "'Strong', 'Weak', 'Strong', 'Strong', 'Weak'],\n",
    "'PlayTennis': ['No', 'No', 'Yes', 'Yes', 'Yes', 'No', 'Yes', 'No', 'Yes', 'Yes', 'Yes', 'Yes',\n",
    "'Yes', 'No']\n",
    "}"
   ]
  },
  {
   "cell_type": "code",
   "execution_count": null,
   "id": "29e12f0d-f1a7-4f29-bcca-811347cbc1f5",
   "metadata": {},
   "outputs": [],
   "source": [
    "df = pd.DataFrame(data)"
   ]
  },
  {
   "cell_type": "code",
   "execution_count": null,
   "id": "cdc8cfaa-b06c-47f4-b4a4-1742c600e746",
   "metadata": {},
   "outputs": [],
   "source": [
    "label_encoders = {}\n",
    "for column in ['Outlook', 'Temperature', 'Humidity', 'Wind', 'PlayTennis']:\n",
    "le = LabelEncoder()\n",
    "df[column] = le.fit_transform(df[column])\n",
    "label_encoders[column] = le"
   ]
  },
  {
   "cell_type": "code",
   "execution_count": null,
   "id": "f7584c33-64ab-46df-8f7c-b561041a7a87",
   "metadata": {},
   "outputs": [],
   "source": [
    "X = df.drop('PlayTennis', axis=1) # Features\n",
    "y = df['PlayTennis'] # Target variable"
   ]
  },
  {
   "cell_type": "code",
   "execution_count": null,
   "id": "22f171f1-4de4-4845-8f5d-43e9a68ef2c4",
   "metadata": {},
   "outputs": [],
   "source": [
    "X_train, X_test, y_train, y_test = train_test_split(X, y, test_size=0.3,\n",
    "random_state=42)"
   ]
  },
  {
   "cell_type": "code",
   "execution_count": null,
   "id": "7e937fd2-f0ff-46bc-a6c8-6906354f6752",
   "metadata": {},
   "outputs": [],
   "source": [
    "dt_classifier = DecisionTreeClassifier(criterion='entropy', random_state=42)\n",
    "dt_classifier.fit(X_train, y_train)"
   ]
  },
  {
   "cell_type": "code",
   "execution_count": null,
   "id": "ed3981d7-ca16-43bd-a391-9fc5f262b8be",
   "metadata": {},
   "outputs": [],
   "source": [
    "y_pred = dt_classifier.predict(X_test)"
   ]
  },
  {
   "cell_type": "code",
   "execution_count": null,
   "id": "593ac0e4-d100-4545-8cf0-1f2bd24cf9e9",
   "metadata": {},
   "outputs": [],
   "source": [
    "accuracy = accuracy_score(y_test, y_pred)\n",
    "print(f'Accuracy of the Decision Tree model: {accuracy * 100:.2f}%')\n"
   ]
  },
  {
   "cell_type": "code",
   "execution_count": null,
   "id": "7157b2cc-5a79-494f-8155-48f3337145c8",
   "metadata": {},
   "outputs": [],
   "source": [
    "print('\\nClassification Report:')\n",
    "print(classification_report(y_test, y_pred))"
   ]
  },
  {
   "cell_type": "code",
   "execution_count": null,
   "id": "1b1effb4-acc9-433b-ad0b-5b5d904a0c90",
   "metadata": {},
   "outputs": [],
   "source": [
    "new_data = pd.DataFrame({\n",
    "'Outlook': [label_encoders['Outlook'].transform(['Sunny'])[0]],\n",
    "'Temperature': [label_encoders['Temperature'].transform(['Mild'])[0]],\n",
    "'Humidity': [label_encoders['Humidity'].transform(['High'])[0]],\n",
    "'Wind': [label_encoders['Wind'].transform(['Weak'])[0]]\n",
    "})\n"
   ]
  },
  {
   "cell_type": "code",
   "execution_count": null,
   "id": "a1cd4281-1b94-4650-b08a-33530c6876f7",
   "metadata": {},
   "outputs": [],
   "source": [
    "prediction = dt_classifier.predict(new_data)\n",
    "print(f'\\nPrediction for new data (Sunny, Mild, High Humidity, Weak Wind): {\"Play\"\n",
    "if prediction[0] == 1 else \"Don\\'t Play\"}')"
   ]
  }
 ],
 "metadata": {
  "kernelspec": {
   "display_name": "Python 3 (ipykernel)",
   "language": "python",
   "name": "python3"
  },
  "language_info": {
   "codemirror_mode": {
    "name": "ipython",
    "version": 3
   },
   "file_extension": ".py",
   "mimetype": "text/x-python",
   "name": "python",
   "nbconvert_exporter": "python",
   "pygments_lexer": "ipython3",
   "version": "3.12.7"
  }
 },
 "nbformat": 4,
 "nbformat_minor": 5
}
