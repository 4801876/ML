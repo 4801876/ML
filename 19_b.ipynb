{
 "cells": [
  {
   "cell_type": "code",
   "execution_count": null,
   "id": "d04f4fab-1275-41ea-a2ba-899b34527286",
   "metadata": {},
   "outputs": [],
   "source": [
    "import pandas as pd\n",
    "from sklearn.model_selection import train_test_split\n",
    "from sklearn.naive_bayes import GaussianNB\n",
    "from sklearn.metrics import accuracy_score, classification_report"
   ]
  },
  {
   "cell_type": "code",
   "execution_count": null,
   "id": "b228c340-3fd7-46d8-b270-77bf9b5b1d79",
   "metadata": {},
   "outputs": [],
   "source": [
    "df = pd.read_csv('weather_forecast.csv') "
   ]
  },
  {
   "cell_type": "code",
   "execution_count": null,
   "id": "3f61fb3e-8acc-41bf-8832-26d19ffb1c09",
   "metadata": {},
   "outputs": [],
   "source": [
    "print(df.isnull().sum())"
   ]
  },
  {
   "cell_type": "code",
   "execution_count": null,
   "id": "ae68152d-0452-427b-9305-78ae4db9161a",
   "metadata": {},
   "outputs": [],
   "source": [
    "df['Rain'] = df['Rain'].map({'Yes': 1, 'No': 0})"
   ]
  },
  {
   "cell_type": "code",
   "execution_count": null,
   "id": "38c38416-c37e-4b72-a36d-ec8266899e84",
   "metadata": {},
   "outputs": [],
   "source": [
    "X = df.drop('Rain', axis=1) \n",
    "y = df['Rain'] "
   ]
  },
  {
   "cell_type": "code",
   "execution_count": null,
   "id": "186380db-7625-4226-bccc-f008d5cd5df5",
   "metadata": {},
   "outputs": [],
   "source": [
    "X_train, X_test, y_train, y_test = train_test_split(X, y, test_size=0.3,\n",
    "random_state=42)"
   ]
  },
  {
   "cell_type": "code",
   "execution_count": null,
   "id": "74432d03-2d3a-4167-b165-7c210dd578f6",
   "metadata": {},
   "outputs": [],
   "source": [
    "nb_model = GaussianNB()\n",
    "nb_model.fit(X_train, y_train)"
   ]
  },
  {
   "cell_type": "code",
   "execution_count": null,
   "id": "cc4ab6d2-1af3-4f60-9fa8-a3c05f6efbcb",
   "metadata": {},
   "outputs": [],
   "source": [
    "y_pred = nb_model.predict(X_test)"
   ]
  },
  {
   "cell_type": "code",
   "execution_count": null,
   "id": "481475cf-ac26-4271-8544-4d9b9d143a06",
   "metadata": {},
   "outputs": [],
   "source": [
    "accuracy = accuracy_score(y_test, y_pred)\n",
    "print(f\"Accuracy: {accuracy * 100:.2f}%\")"
   ]
  },
  {
   "cell_type": "code",
   "execution_count": null,
   "id": "d6854427-7471-4d46-a8c5-be5e4985c1ab",
   "metadata": {},
   "outputs": [],
   "source": [
    "print(\"Classification Report:\")\n",
    "print(classification_report(y_test, y_pred))"
   ]
  }
 ],
 "metadata": {
  "kernelspec": {
   "display_name": "Python 3 (ipykernel)",
   "language": "python",
   "name": "python3"
  },
  "language_info": {
   "codemirror_mode": {
    "name": "ipython",
    "version": 3
   },
   "file_extension": ".py",
   "mimetype": "text/x-python",
   "name": "python",
   "nbconvert_exporter": "python",
   "pygments_lexer": "ipython3",
   "version": "3.12.7"
  }
 },
 "nbformat": 4,
 "nbformat_minor": 5
}
